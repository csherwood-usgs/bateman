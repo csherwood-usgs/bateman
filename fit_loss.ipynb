{
 "cells": [
  {
   "cell_type": "code",
   "execution_count": 1,
   "metadata": {
    "collapsed": true
   },
   "outputs": [],
   "source": [
    "from scipy.integrate import odeint\n",
    "from pylab import *\n",
    "from lmfit import *\n",
    "from scipy import stats\n",
    "%matplotlib inline"
   ]
  },
  {
   "cell_type": "code",
   "execution_count": 2,
   "metadata": {
    "collapsed": false
   },
   "outputs": [
    {
     "name": "stdout",
     "output_type": "stream",
     "text": [
      "PCB118 2\n",
      "PCB138 4\n",
      "PCB153 3\n",
      "PCBall 1\n",
      "PCBnone 0\n"
     ]
    }
   ],
   "source": [
    "# Calculate all cases\n",
    "\n",
    "# Normalization\n",
    "norm = {'PCBnone':0,'PCBall':1,'PCB118':2,'PCB153':3,'PCB138':4}\n",
    "\n",
    "site = {\"3C\":0,\"6C\":1}\n",
    "    \n",
    "for k, v in sorted(norm.items()):\n",
    "    print k,v\n",
    "\n",
    "site = 'Site 3C'"
   ]
  },
  {
   "cell_type": "code",
   "execution_count": 3,
   "metadata": {
    "collapsed": false
   },
   "outputs": [
    {
     "name": "stdout",
     "output_type": "stream",
     "text": [
      "Data from Site 3C with shape (5, 7)\n",
      "1981.2700  1.3400  0.0700  0.0040  0.0081  0.0062  0.0076  \n",
      "1992.5100  0.7100  0.2500  0.0120  0.0066  0.0049  0.0064  \n",
      "2003.5800  0.3900  0.3200  0.0360  0.0050  0.0037  0.0050  \n",
      "2009.2300  0.3800  0.5200  0.0690  0.0076  0.0076  0.0085  \n",
      "2010.3100  0.4100  0.5200  0.0850  0.0075  0.0072  0.0079  \n"
     ]
    }
   ],
   "source": [
    "# Load data for the selected site\n",
    "if site == 'Site 3C':\n",
    "    A=np.array([\\\n",
    "    [1981.27,1.34,0.07,0.004,0.0081,0.0062,0.0076],\\\n",
    "    [1992.51,0.71,0.25,0.012,0.0066,0.0049,0.0064],\\\n",
    "    [2003.58,0.39,0.32,0.036,0.0050,0.0037,0.0050],\\\n",
    "    [2009.23,0.38,0.52,0.069,0.0076,0.0076,0.0085],\\\n",
    "    [2010.31,0.41,0.52,0.085,0.0075,0.0072,0.0079]])\n",
    "if site == 'Site 6C':\n",
    "    A=np.array([\\\n",
    "    [1992.52,3.07,0.67,0.026,0.0182,0.0119,0.0152],\\\n",
    "    [2003.58,2.75,0.87,0.072,0.0177,0.0122,0.0158],\\\n",
    "    [2009.23,2.37,0.75,0.095,0.0172,0.0095,0.0134],\\\n",
    "    [2010.31,1.16,0.43,0.046,0.0079,0.0054,0.0065]])\n",
    "\n",
    "t = A[:,0]\n",
    "DDE=A[:,1]\n",
    "DDMU=A[:,2]\n",
    "DDNU=A[:,3]\n",
    "PCB118=A[:,4]\n",
    "PCB153=A[:,5]\n",
    "PCB138=A[:,6]\n",
    "\n",
    "print(\"Data from {0} with shape {1}\".format(site,A.shape))\n",
    "print('\\n'.join([''.join(['{:5.4f}  '.format(item) for item in row]) \n",
    "      for row in A]))\n",
    "\n",
    "# guess at std. error in measurements per conv. with R.E.\n",
    "stde_DDE  = 0.05          #RE suggests 0.05\n",
    "stde_DDMU = 0.1          #RE suggested 0.1\n",
    "stde_DDNU = 0.1          #RE suggested 0.1\n",
    "stde_PCB  = 0.2          # std. error of measurements is around 0.2\n",
    "eps_DDE  = stde_DDE*DDE  \n",
    "eps_DDMU = stde_DDMU*DDMU #RE suggested 0.1\n",
    "eps_DDNU = stde_DDNU*DDNU #RE suggested 0.2"
   ]
  },
  {
   "cell_type": "code",
   "execution_count": 4,
   "metadata": {
    "collapsed": true
   },
   "outputs": [],
   "source": [
    "# Objective function to minimize, fit through origin, estimate decay rate\n",
    "def residual(params, t, data, eps_data):\n",
    "    C0 = data[0]\n",
    "    k = params['decay_rate']\n",
    "    model = C0*np.exp(-k*(t-t[0]))\n",
    "    return (data-model)**2/eps_data**2\n",
    "\n",
    "# Objective function to minimize, estimate origin and decay rate\n",
    "def residual2(params, t, data, eps_data):\n",
    "    C0 = params['init_conc']\n",
    "    k = params['decay_rate']\n",
    "    model = C0*np.exp(-k*(t-t[0]))\n",
    "    return (data-model)**2/eps_data**2"
   ]
  },
  {
   "cell_type": "code",
   "execution_count": 11,
   "metadata": {
    "collapsed": false
   },
   "outputs": [
    {
     "name": "stdout",
     "output_type": "stream",
     "text": [
      "\n",
      "Non-linear fit, forced through C0\n",
      "[[Fit Statistics]]\n",
      "    # function evals   = 32\n",
      "    # data points      = 5\n",
      "    # variables        = 1\n",
      "    chi-square         = 385.561\n",
      "    reduced chi-square = 96.390\n",
      "    Akaike info crit   = 23.726\n",
      "    Bayesian info crit = 23.336\n",
      "[[Variables]]\n",
      "    decay_rate:   0.04791219 +/- 0.001783 (3.72%) (init= 0.4)\n",
      "[[Correlations]] (unreported correlations are <  0.100)\n",
      "('r2 = ', 0.90885351855981733)\n",
      "\n",
      "Non-linear fit, and fit initial conc\n",
      "[[Fit Statistics]]\n",
      "    # function evals   = 72\n",
      "    # data points      = 5\n",
      "    # variables        = 2\n",
      "    chi-square         = 283.454\n",
      "    reduced chi-square = 94.485\n",
      "    Akaike info crit   = 24.188\n",
      "    Bayesian info crit = 23.407\n",
      "[[Variables]]\n",
      "    decay_rate:   0.04302361 +/- 0.004949 (11.50%) (init= 0.4)\n",
      "    init_conc:    1.18868534 +/- 0.135436 (11.39%) (init= 1.34)\n",
      "[[Correlations]] (unreported correlations are <  0.100)\n",
      "    C(decay_rate, init_conc)     =  0.918 \n",
      "('r2 = ', 0.97245685995210318)\n",
      "\n",
      "Linear regression: slope, C0hat, r**2, p, std_err:\n",
      "(-0.042964252301929483, 1.2311643321205739, 0.94075190788200891, 0.0062330738112541485, 0.0062250989917183499)\n"
     ]
    }
   ],
   "source": [
    "# Non-linear fit through initial conc\n",
    "print('\\nNon-linear fit, forced through C0')\n",
    "data = DDE\n",
    "eps_data = eps_DDE\n",
    "params = Parameters()\n",
    "\n",
    "params.add('decay_rate',value = 0.4, min =0., max = 1.)\n",
    "out = minimize(residual, params, method='leastsq', args=(t,data,eps_data))\n",
    "\n",
    "# Get the fitted rates\n",
    "k1f=out.params['decay_rate'].value\n",
    "k1e = out.params['decay_rate'].stderr\n",
    "\n",
    "# Get fit metrics\n",
    "chis = out.chisqr\n",
    "chir = out.redchi\n",
    "report_fit(out)\n",
    "# Calculate fit profile\n",
    "Chat = data[0]*np.exp(-k1f*t)\n",
    "r2 = np.corrcoef(data[1:], Chat[1:])[0,1]**2\n",
    "print(\"r2 = \",r2)\n",
    "\n",
    "# Non-linear fit, fit initial conc\n",
    "print('\\nNon-linear fit, and fit initial conc')\n",
    "data = DDE\n",
    "eps_data = eps_DDE\n",
    "params = Parameters()\n",
    "params.add('decay_rate',value = 0.4, min =0., max = 1.)\n",
    "params.add('init_conc',value = data[0], min =0., max = 5.*data[0])\n",
    "\n",
    "out = minimize(residual2, params, method='leastsq', args=(t,data,eps_data))\n",
    "\n",
    "# Get the fitted rates\n",
    "k1f=out.params['decay_rate'].value\n",
    "k1e = out.params['decay_rate'].stderr\n",
    "Cof=out.params['init_conc'].value\n",
    "Coe = out.params['init_conc'].stderr\n",
    "\n",
    "# Get fit metrics\n",
    "chis = out.chisqr\n",
    "chir = out.redchi\n",
    "report_fit(out)\n",
    "\n",
    "# Calculate fit profile\n",
    "Chat = Cof*np.exp(-k1f*t)\n",
    "r2 = np.corrcoef(data, Chat)[0,1]**2\n",
    "print(\"r2 = \",r2)\n",
    "\n",
    "slope, intercept, r_value, p_value, std_err = stats.linregress(t,log(data))\n",
    "C0hat = exp(intercept+slope*t[0])\n",
    "print('\\nLinear regression: slope, C0hat, r**2, p, std_err:')\n",
    "print(slope, C0hat, r_value**2, p_value, std_err)"
   ]
  },
  {
   "cell_type": "code",
   "execution_count": null,
   "metadata": {
    "collapsed": true
   },
   "outputs": [],
   "source": []
  }
 ],
 "metadata": {
  "anaconda-cloud": {},
  "kernelspec": {
   "display_name": "Python [default]",
   "language": "python",
   "name": "python2"
  },
  "language_info": {
   "codemirror_mode": {
    "name": "ipython",
    "version": 2
   },
   "file_extension": ".py",
   "mimetype": "text/x-python",
   "name": "python",
   "nbconvert_exporter": "python",
   "pygments_lexer": "ipython2",
   "version": "2.7.12"
  }
 },
 "nbformat": 4,
 "nbformat_minor": 1
}
