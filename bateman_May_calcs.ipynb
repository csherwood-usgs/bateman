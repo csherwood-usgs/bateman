{
 "cells": [
  {
   "cell_type": "markdown",
   "metadata": {},
   "source": [
    "<h2>Bateman Equations for Multiple Decay</h2>\n",
    "\n",
    "The inventory of each of four compounds was calculated assuming a multi-step reaction model. These calculations require several assumptions (Eganhouse and Pontolillo, 2008), as follows: (1) reactions and loss occur through first-order kinetics; (2) the only competing reaction is loss through unspecified physical processes discussed below; and (3) rates are constant over time and uniform throughout the sediment deposit (except the physical loss rate). The time-rate of change in $DDE$ inventory was determined by dechlorination to $DDMU$ and by possible losses through other processes. Likewise, the change in $DDMU$ inventory was determined losses from dechlorination to $DDNU$, gains from dechlorination of parent $DDE$, and losses by other processes. $DDNU$ inventory changes were analogous, with losses to an unspecified compound, gains from parent $DDMU$, and possible losses through other processes. The inventory of the final, unspecified product changes with gains from transformation of $DDMU$ and possible losses to other processes. The coupled differential equations (1) are\n",
    "\n",
    "$\\begin{matrix}\n",
    "\\frac{d{{C}_{DDE}}}{dt}=-{{k}_{1}}{{C}_{DDE}}-{{k}_{4}}{{C}_{DDE}}  \\\\\n",
    "   \\frac{d{{C}_{DDMU}}}{dt}=-{{k}_{2}}{{C}_{DDMU}}+{{k}_{1}}{{C}_{DDE}}-{{k}_{4}}{{C}_{DDMU}}  \\\\\n",
    "   \\frac{d{{C}_{DDNU}}}{dt}=-{{k}_{3}}{{C}_{DDNU}}+{{k}_{2}}{{C}_{DDMU}}-{{k}_{4}}{{C}_{DDNU}}  \\\\\n",
    "   \\frac{d{{C}_{UN}}}{dt}={{k}_{3}}{{C}_{DDNU}}-{{k}_{4}}{{C}_{UN}}  \\\\\n",
    "\\end{matrix}$\n",
    "\n",
    "where the molar concentrations $C$ [$\\mu$mol/kg dry sediment] of each compound and the transformation rate coefficients  [y-1] are labeled with subscripts. The losses to other processes accounted for physical removal of compounds from the sediment. Processes that have been suggested include direct desorption, resuspension and desorption, desorption into porewater and irrigation, and uptake by benthic deposit feeders. We have assumed that the combined rate coefficient for these processes applies equally to all four compounds. \n"
   ]
  },
  {
   "cell_type": "markdown",
   "metadata": {},
   "source": [
    "##### Import dependencies\n",
    "LmFit (https://lmfit.github.io/lmfit-py/) \"provides a high-level interface to non-linear optimization and curve fitting problems\"."
   ]
  },
  {
   "cell_type": "code",
   "execution_count": 18,
   "metadata": {
    "collapsed": true
   },
   "outputs": [],
   "source": [
    "from scipy.integrate import odeint\n",
    "from pylab import *\n",
    "from lmfit import *\n",
    "%matplotlib inline\n",
    "\n",
    "# This next line controls whether bare variable names print in the output box\n",
    "# As suggested in https://www.dataquest.io/blog/jupyter-notebook-tips-tricks-shortcuts/\n",
    "from IPython.core.interactiveshell import InteractiveShell\n",
    "InteractiveShell.ast_node_interactivity = \"none\"\n",
    "\n",
    "import pandas as pd\n",
    "#from IPython.display import display, HTML"
   ]
  },
  {
   "cell_type": "markdown",
   "metadata": {},
   "source": [
    "##### The next cell contains key switches\n",
    "* Identify which site to process\n",
    "* Choose whether to adjust the inventories according to PCB anomolies. If selected `adjust_inventories` is `True` then computations are performed using adjusted inventories ${{C}_{i,\\,adj}}$.\n",
    "* Choose whether to include estimates of the std. deviations $\\sigma_i$ of inventories in the objective function. The objective function returns an array of length $N$ for each observation $data_i$ and associated modeled result $model_i$ and is calculated as $$\\frac{{{\\left( mode{{l}_{i}}-dat{{a}_{i}} \\right)}^{2}}}{\\sigma _{i}^{2}}$$ If `use_eps` is `False`, $\\sigma = 1$."
   ]
  },
  {
   "cell_type": "code",
   "execution_count": 19,
   "metadata": {
    "collapsed": false
   },
   "outputs": [],
   "source": [
    "# Pick one of the two sites\n",
    "#site = 'Site 3C'\n",
    "site = 'Site 6C'\n",
    "\n",
    "# Adjust using PCBs?\n",
    "adjust_inventories=True\n",
    "\n",
    "# Use std. deviations in chi-square calculation?\n",
    "use_eps=True\n",
    "\n",
    "# These strings are used to build filenames for the output figures and set y-axis limits\n",
    "itext = '_'\n",
    "if adjust_inventories:\n",
    "    itext = \"_adj_\"\n",
    "etext = '_'\n",
    "if use_eps:\n",
    "    etext = \"_eps_\"\n",
    "yl = [0., 1.5]\n",
    "if site=='Site 6C':\n",
    "    yl = [0., 3.5]"
   ]
  },
  {
   "cell_type": "markdown",
   "metadata": {},
   "source": [
    "##### These data are from spreadsheet e-mailed to CRS from Bob Eganhouse 16-Dec-2016 'Inventories for C.Sherwood 12-16-2016.xlsx'\n",
    "Columns represent: time (decimal years), p,p'-DDE, p,p'-DDMU, p,p'-DDNU, PCB 118, PCB 153, PBC 138, PCB28, and PCB70 ($\\mu mol \\: cm^{-2}$)"
   ]
  },
  {
   "cell_type": "code",
   "execution_count": 20,
   "metadata": {
    "collapsed": false
   },
   "outputs": [
    {
     "name": "stdout",
     "output_type": "stream",
     "text": [
      "Data from Site 6C with shape (4L, 9L)\n",
      "1992.5200  3.0700  0.6700  0.0260  0.0182  0.0119  0.0152  0.0084  0.0216  \n",
      "2003.5800  2.7500  0.8700  0.0720  0.0177  0.0122  0.0158  0.0106  0.0230  \n",
      "2009.2300  2.3700  0.7500  0.0950  0.0172  0.0095  0.0134  0.0112  0.0271  \n",
      "2010.3100  1.1600  0.4300  0.0460  0.0079  0.0054  0.0065  0.0032  0.0104  \n"
     ]
    }
   ],
   "source": [
    "# Load data from the selected site.\n",
    "# This data comes from the spreadsheet \"Inventories for C. Sherwood 12-16-2016.xlsx\" which was modified\n",
    "# and resent to CRS on 4/7/2016. The modifications added inventories of the congeners PCB28 and PBC70.\n",
    "cols=[\"Year\",\"DDE\",\"DDMU\",\"DDNU\",\"PCB118\",\"PCB153\",\"PCB138\",\"PCB28\",\"PCB70\"]\n",
    "A=np.array([\\\n",
    "    [1981.27,1.34,0.07,0.004,0.0081,0.0062,0.0076,0.0025,0.0077],\\\n",
    "    [1992.51,0.71,0.25,0.012,0.0066,0.0049,0.0064,0.0017,0.0057],\\\n",
    "    [2003.58,0.39,0.32,0.036,0.0050,0.0037,0.0050,0.0012,0.0038],\\\n",
    "    [2009.23,0.38,0.52,0.069,0.0076,0.0076,0.0085,0.0030,0.0057],\\\n",
    "    [2010.31,0.41,0.52,0.085,0.0075,0.0072,0.0079,0.0033,0.0061]])\n",
    "#C3 = pd.DataFrame(A,columns=cols)\n",
    "\n",
    "B=np.array([\\\n",
    "    [1992.52,3.07,0.67,0.026,0.0182,0.0119,0.0152,0.0084,0.0216],\\\n",
    "    [2003.58,2.75,0.87,0.072,0.0177,0.0122,0.0158,0.0106,0.0230],\\\n",
    "    [2009.23,2.37,0.75,0.095,0.0172,0.0095,0.0134,0.0112,0.0271],\\\n",
    "    [2010.31,1.16,0.43,0.046,0.0079,0.0054,0.0065,0.0032,0.0104]])\n",
    "#C6 = pd.DataFrame(B,columns=cols)\n",
    "\n",
    "# Load data for the selected site\n",
    "if site == 'Site 3C':  \n",
    "    t = A[:,0]\n",
    "    DDE=A[:,1]\n",
    "    DDMU=A[:,2]\n",
    "    DDNU=A[:,3]\n",
    "    PCB118=A[:,4]\n",
    "    PCB153=A[:,5]\n",
    "    PCB138=A[:,6]\n",
    "    PCB28=A[:,7]\n",
    "    PCB70=A[:,8]\n",
    "    print(\"Data from {0} with shape {1}\".format(site,A.shape))\n",
    "    print('\\n'.join([''.join(['{:5.4f}  '.format(item) for item in row]) \n",
    "      for row in A]))\n",
    "\n",
    "if site == 'Site 6C':  \n",
    "    t = B[:,0]\n",
    "    DDE=B[:,1]\n",
    "    DDMU=B[:,2]\n",
    "    DDNU=B[:,3]\n",
    "    PCB118=B[:,4]\n",
    "    PCB153=B[:,5]\n",
    "    PCB138=B[:,6]\n",
    "    PCB28=B[:,7]\n",
    "    PCB70=B[:,8]\n",
    "    print(\"Data from {0} with shape {1}\".format(site,B.shape))\n",
    "    print('\\n'.join([''.join(['{:5.4f}  '.format(item) for item in row]) \n",
    "      for row in B]))"
   ]
  },
  {
   "cell_type": "markdown",
   "metadata": {},
   "source": [
    "##### Make some plots of inventory over time"
   ]
  },
  {
   "cell_type": "code",
   "execution_count": 21,
   "metadata": {
    "collapsed": true
   },
   "outputs": [],
   "source": [
    "# calculate adjustment according to mean of all PCBs inventory\n",
    "adj_PCB118 = mean(PCB118)/PCB118\n",
    "adj_PCB153 = mean(PCB153)/PCB153\n",
    "adj_PCB138 = mean(PCB138)/PCB138\n",
    "adj_PCB28 = mean(PCB28)/PCB28\n",
    "adj_PCB70 = mean(PCB70)/PCB70"
   ]
  },
  {
   "cell_type": "code",
   "execution_count": 22,
   "metadata": {
    "collapsed": false
   },
   "outputs": [
    {
     "data": {
      "image/png": "[encoded data removed]",
      "text/plain": [
       "<matplotlib.figure.Figure at 0xc8d5c50>"
      ]
     },
     "metadata": {},
     "output_type": "display_data"
    }
   ],
   "source": [
    "InteractiveShell.ast_node_interactivity = \"none\"\n",
    "# calculate first-order RDC for \n",
    "fig = plt.figure(figsize=(8,6))\n",
    "plt.semilogy(t,DDE,label='$DDE$',color='red')\n",
    "plt.semilogy(t,DDMU,label='$DDMU$',color='purple')\n",
    "plt.semilogy(t,DDNU,label='$DDNU$',color='blue')\n",
    "\n",
    "plt.semilogy(t,DDE*adj_PCB118,label='$DDE \\:adj. w/ \\:PCB \\: 118$',color='red',linestyle='dashed')\n",
    "plt.semilogy(t,DDMU*adj_PCB70,label='$DDMU \\:adj. w/  \\: PCB \\: 70$',color='purple',linestyle='dashed')\n",
    "plt.semilogy(t,DDNU*adj_PCB28,label='$DDNU \\:adj. w/  \\: PCB \\: 28$',color='blue',linestyle='dashed')\n",
    "\n",
    "plt.xlabel('Time (years)')\n",
    "plt.ylabel('Concentration ($\\mu$mol / kg)')\n",
    "if site=='Site 3C':\n",
    "    plt.legend(loc='lower right')\n",
    "if site=='Site 6C':\n",
    "    plt.legend(loc='lower left')\n",
    "plt.xticks(np.arange(1980,2020+1,10))\n",
    "ttle = site\n",
    "plt.title(ttle,fontsize=14)\n",
    "figname = site+\"inventory_time_series_rev.png\"\n",
    "plt.savefig(figname,bbox_inches='tight')"
   ]
  },
  {
   "cell_type": "markdown",
   "metadata": {},
   "source": [
    "##### Define the model\n",
    "This is a simpler version with no global decay rate, and no fourth-generation product. It is a coupled set of ordinary differential equations that, in the model, are integrated with the `scipy.odeint` function."
   ]
  },
  {
   "cell_type": "code",
   "execution_count": 23,
   "metadata": {
    "collapsed": true
   },
   "outputs": [],
   "source": [
    "# Version of ODE with three-generation transformation and only three transfer terms\n",
    "def dcdt3(c, t, k):\n",
    "    dfdt = np.zeros(3)\n",
    "    dfdt[0] = c[0]* -k[0]\n",
    "    dfdt[1] = c[1]* -k[1] + c[0]*k[0]\n",
    "    dfdt[2] = c[2]* -k[2] + c[1]*k[1]\n",
    "    return dfdt"
   ]
  },
  {
   "cell_type": "markdown",
   "metadata": {},
   "source": [
    "##### Define the objective functions to minimize\n",
    "These functions return the quantity that lmfit will try to minimize. They are returned as vectors of length $N$, the number of data points (and corresponding model estimates). The RMS of this vector is the chi-square goodness of fit."
   ]
  },
  {
   "cell_type": "code",
   "execution_count": 24,
   "metadata": {
    "collapsed": true
   },
   "outputs": [],
   "source": [
    "# Objective function to minimize, fit through origin, estimate decay rate\n",
    "def residual(params, t, data, eps_data):\n",
    "    C0 = data[0]\n",
    "    k = params['decay_rate']\n",
    "    model = C0*np.exp(-k*(t-t[0]))\n",
    "    return (data-model)**2/eps_data**2\n",
    "\n",
    "# Objective function to minimize, estimate origin and decay rate\n",
    "def residual2(params, t, data, eps_data):\n",
    "    C0 = params['init_conc']\n",
    "    k = params['decay_rate']\n",
    "    model = C0*np.exp(-k*(t-t[0]))\n",
    "    return (data-model)**2/eps_data**2\n",
    "\n",
    "# Objective function using ODE for three-generation transformation \n",
    "def residual3(params, t, data, eps_data):\n",
    "    # Data is passed as a vector\n",
    "    # Index on length of time array to find intitial concentrations\n",
    "    nt = t.size\n",
    "    k = np.array((params['k1'],params['k2'],params['k3']))\n",
    "    C0 = np.array((data[0],data[nt],data[2*nt]))\n",
    "    C = odeint(dcdt3,C0,t, args = (k,))\n",
    "    model = np.concatenate((C[:,0],C[:,1],C[:,2]))\n",
    "    return (data-model)**2/eps_data**2\n",
    "    "
   ]
  },
  {
   "cell_type": "code",
   "execution_count": 25,
   "metadata": {
    "collapsed": false
   },
   "outputs": [],
   "source": [
    "# guess at std. error in measurements per conv. with R.E.\n",
    "stde_DDE  = 0.05          #RE suggests 0.05\n",
    "stde_DDMU = 0.1          #RE suggested 0.1\n",
    "stde_DDNU = 0.1          #RE suggested 0.1\n",
    "stde_PCB  = 0.2          # std. error of measurements is around 0.2\n",
    "eps_DDE  = stde_DDE*DDE  \n",
    "eps_DDMU = stde_DDMU*DDMU\n",
    "eps_DDNU = stde_DDNU*DDNU\n",
    "eps_PCB118 = stde_PCB*PCB118\n",
    "eps_PCB28 = stde_PCB*PCB28\n",
    "eps_PCB70 = stde_PCB*PCB70\n",
    "# note to self: I think I should just use the std. error, because the PCB adjustments are normalized."
   ]
  },
  {
   "cell_type": "markdown",
   "metadata": {},
   "source": [
    "#### Fit the multi-step decay model, with or without PCB adjustment"
   ]
  },
  {
   "cell_type": "code",
   "execution_count": 26,
   "metadata": {
    "collapsed": false
   },
   "outputs": [
    {
     "name": "stdout",
     "output_type": "stream",
     "text": [
      "data\n",
      "[ 2.57239011  2.36935028  2.10130814  2.23924051  0.63665509  0.77638043\n",
      "  0.56803506  0.84862981  0.02584524  0.05671698  0.07082589  0.12003125]\n",
      "eps_data\n",
      "[ 0.25211555  0.2427061   0.23246989  0.20824025  0.21092416  0.21810319\n",
      "  0.21360009  0.20457028  0.2000169   0.20012956  0.2002255   0.20005289]\n"
     ]
    }
   ],
   "source": [
    "# Put data for all compounds in a single vector\n",
    "nt = t.size\n",
    "data = np.concatenate((DDE,DDMU,DDNU))\n",
    "if(adjust_inventories):\n",
    "    data = np.concatenate((DDE*adj_PCB118,DDMU*adj_PCB70,DDNU*adj_PCB28))\n",
    "\n",
    "eps_data = np.ones_like(data)\n",
    "data_ebar = np.concatenate((eps_DDE,eps_DDMU,eps_DDNU))\n",
    "if(use_eps):\n",
    "    eps_data = np.concatenate((eps_DDE,eps_DDMU,eps_DDNU))\n",
    "    if(adjust_inventories):\n",
    "        eps_data = np.concatenate((np.sqrt(eps_DDE**2+stde_PCB**2),\\\n",
    "                                   np.sqrt(eps_DDMU**2+stde_PCB**2),\\\n",
    "                                   np.sqrt(eps_DDNU**2+stde_PCB**2)))\n",
    "        data_ebar = np.concatenate((np.sqrt(eps_DDE**2+stde_PCB**2),\\\n",
    "                                   np.sqrt(eps_DDMU**2+stde_PCB**2),\\\n",
    "                                   np.sqrt(eps_DDNU**2+stde_PCB**2)))\n",
    "\n",
    "print('data')\n",
    "print(data)\n",
    "print('eps_data')\n",
    "print(eps_data)"
   ]
  },
  {
   "cell_type": "code",
   "execution_count": 31,
   "metadata": {
    "collapsed": false
   },
   "outputs": [
    {
     "name": "stdout",
     "output_type": "stream",
     "text": [
      "('residual3 shape:', (12L,))\n",
      "RMS residuals: 2.50114911854\n",
      "\n",
      "Fit to DDE, DDMU, and DDNU\n",
      " Site 6C\n",
      "  Inventories adjusted by selected PCB inventories\n",
      "  Using estimates of std. errors\n",
      "[[Fit Statistics]]\n",
      "    # function evals   = 63\n",
      "    # data points      = 12\n",
      "    # variables        = 3\n",
      "    chi-square         = 0.450\n",
      "    reduced chi-square = 0.050\n",
      "    Akaike info crit   = -33.395\n",
      "    Bayesian info crit = -31.941\n",
      "[[Variables]]\n",
      "    k1:   0.00961086 +/- 0.001228 (12.79%) (init= 0.4)\n",
      "    k2:   0.02656324 +/- 0.004621 (17.40%) (init= 0.4)\n",
      "    k3:   0.19968445 +/- 0.272056 (136.24%) (init= 0.4)\n",
      "[[Correlations]] (unreported correlations are <  0.100)\n",
      "    C(k1, k2)                    =  0.836 \n",
      "    C(k2, k3)                    =  0.137 \n",
      "    C(k1, k3)                    =  0.124 \n",
      "4\n",
      "(4L,)\n",
      "(4L,)\n",
      "(12L,)\n"
     ]
    },
    {
     "data": {
      "image/png": "[encoded data removed]",
      "text/plain": [
       "<matplotlib.figure.Figure at 0xc81a320>"
      ]
     },
     "metadata": {},
     "output_type": "display_data"
    }
   ],
   "source": [
    "# fit the multistep model                                 \n",
    "params = Parameters()\n",
    "params.add('k1',value = 0.4, min =0., max = 0.6)\n",
    "params.add('k2',value = 0.4, min =0., max = 0.6)\n",
    "params.add('k3',value = 0.4, min =0., max = 2.0)\n",
    "\n",
    "# Test the ODE solver\n",
    "k = np.array((params['k1'],params['k2'],params['k3']))\n",
    "C0 = np.array((data[0],data[nt],data[2*nt]))\n",
    "C = odeint(dcdt3,C0,t, args = (k,))\n",
    "model = np.concatenate((C[:,0],C[:,1],C[:,2]))\n",
    "\n",
    "# Test the objective function outside\n",
    "res = residual3(params, t, data, np.ones_like(data))\n",
    "print(\"residual3 shape:\",shape(res))\n",
    "print(\"RMS residuals: {:}\".format( np.sqrt(np.mean(res**2))))\n",
    "\n",
    "# Optimize the parameters using least-squares fit\n",
    "out = minimize(residual3, params, method='leastsq', args=(t,data,eps_data))\n",
    "\n",
    "# Get the fitted rates\n",
    "kf = np.zeros((3,))\n",
    "kf[0]=out.params['k1'].value\n",
    "kf[1]=out.params['k2'].value\n",
    "kf[2]=out.params['k3'].value\n",
    "ke = np.zeros((3,))\n",
    "ke[0] = out.params['k1'].stderr\n",
    "ke[1] = out.params['k2'].stderr\n",
    "ke[2] = out.params['k3'].stderr\n",
    "\n",
    "# Get fit metrics\n",
    "chis = out.chisqr\n",
    "chir = out.redchi\n",
    "\n",
    "# Run the ODE solver with best-fit results\n",
    "tm = linspace(t[0],2020.,50)\n",
    "C0 = np.array((data[0],data[nt],data[2*nt]))\n",
    "Cm = odeint(dcdt3,C0,tm, args = (kf,))\n",
    "\n",
    "# now run it for all of the cases with +/- uncertainty\n",
    "kmult = np.array((0.,1.,-1.))\n",
    "kep = np.zeros((27,3))\n",
    "Cc = np.zeros_like(Cm)\n",
    "Cmax = np.zeros_like(Cm)\n",
    "Cmin = np.zeros_like(Cm)\n",
    "C1 = np.zeros((27,50))\n",
    "C2 = np.zeros((27,50))\n",
    "C3 = np.zeros((27,50))\n",
    "n =0\n",
    "for k in np.arange(3):\n",
    "    for j in np.arange(3):\n",
    "        for i in np.arange(3):\n",
    "            kep[n][0]=max(0.,kf[0]+ke[0]*kmult[k])\n",
    "            kep[n][1]=max(0.,kf[1]+ke[1]*kmult[i])\n",
    "            kep[n][2]=max(0.,kf[2]+ke[2]*kmult[j])\n",
    "            C0 = np.array((data[0],data[nt],data[2*nt]))\n",
    "            Cc = odeint(dcdt3,C0,tm, args = (kep[n,:],))\n",
    "            C1[n,:] = Cc[:,0]\n",
    "            C2[n,:] = Cc[:,1]\n",
    "            C3[n,:] = Cc[:,2]\n",
    "            n=n+1\n",
    "\n",
    "Cmax[:,0] = np.amax(C1,axis=0)\n",
    "Cmin[:,0] = np.amin(C1,axis=0)\n",
    "Cmax[:,1] = np.amax(C2,axis=0)\n",
    "Cmin[:,1] = np.amin(C2,axis=0)\n",
    "Cmax[:,2] = np.amax(C3,axis=0)\n",
    "Cmin[:,2] = np.amin(C3,axis=0)\n",
    "\n",
    "print('\\nFit to DDE, DDMU, and DDNU')\n",
    "print(\" {}\".format(site))\n",
    "if(adjust_inventories):\n",
    "    print(\"  Inventories adjusted by selected PCB inventories\")\n",
    "if(use_eps):\n",
    "    print(\"  Using estimates of std. errors\")\n",
    "report_fit(out)\n",
    "\n",
    "print(nt)\n",
    "print(shape(t))\n",
    "print(shape(data[0:nt]))\n",
    "print(shape(eps_data))\n",
    "\n",
    "\n",
    "fig = plt.figure(figsize=(8,6))\n",
    "ax = fig.add_subplot(111)\n",
    "plt.plot(tm,Cm[:,0]+Cm[:,1]+Cm[:,2],'-',color='gray',label=\"Total\")\n",
    "plt.plot(tm,Cmax[:,2],'--',color='blue')\n",
    "plt.plot(tm,Cmin[:,2],'--',color='blue')\n",
    "plt.plot(tm,Cmax[:,1],'--',color='purple')\n",
    "plt.plot(tm,Cmin[:,1],'--',color='purple')\n",
    "plt.plot(tm,Cmax[:,0],'--',color='red')\n",
    "plt.plot(tm,Cmin[:,0],'--',color='red')\n",
    "plt.plot(tm,Cm[:,2],'-', color='blue',linewidth=2)\n",
    "plt.plot(tm,Cm[:,1],'-', color='purple',linewidth=2)\n",
    "plt.plot(tm,Cm[:,0],'-', color='red',linewidth=2)\n",
    "plt.plot(t,data[0:nt],'s',color='red',markersize=12,linestyle='None',label='$DDE$')\n",
    "plt.plot(t,data[nt:2*nt],'o',color='purple',markersize=12,linestyle='None',label='$DDMU$')\n",
    "plt.plot(t,data[2*nt:3*nt],'v',color='blue',markersize=12,linestyle='None',label='$DDNU$')\n",
    "plt.errorbar(t,data[0:nt], yerr=data_ebar[0:nt],color='red',elinewidth=2,linestyle='None')\n",
    "plt.errorbar(t,data[nt:2*nt], yerr=data_ebar[nt:2*nt],color='purple',elinewidth=2,linestyle='None')\n",
    "plt.errorbar(t,data[2*nt:3*nt], yerr=data_ebar[2*nt:3*nt],color='blue',elinewidth=2,linestyle='None')\n",
    "plt.xticks(np.arange(1980,2020+1,10))\n",
    "plt.xlabel(r'Time (years)', fontsize=14)\n",
    "\n",
    "ax.set_ylim(yl)\n",
    "plt.ylabel(r'Adjusted Inventory ($\\mu$ mol / cm$^2$)',fontsize=14)\n",
    "ts0 = r\"$\\chi _{\\upsilon }^{2}$\"+\"={0:.3f}\".format(chir)\n",
    "ts1=  r\"$k_1$\"+\"={0:.3f}\".format(kf[0])+r\"$\\pm${0:.3f}\".format(ke[0])\n",
    "ts2=  r\"$k_2$\"+\"={0:.3f}\".format(kf[1])+r\"$\\pm${0:.3f}\".format(ke[1])\n",
    "ts3=  r\"$k_3$\"+\"={0:.3f}\".format(kf[2])+r\"$\\pm${0:.3f}\".format(ke[2])\n",
    "#ax.text(2025.,.35,ts0)\n",
    "\n",
    "if site=='Site 3C':\n",
    "    plt.legend(loc=(.55,.75))\n",
    "    ax.text(1981,1.4,\"a\",fontsize=18)\n",
    "    ax.text(2011.,1.31,ts1)\n",
    "    ax.text(2011.,1.23,ts2)\n",
    "    ax.text(2011.,1.15,ts3)\n",
    "if site=='Site 6C':\n",
    "    plt.legend(loc=(.05,.7))\n",
    "    ax.text(1981,1.4*3.5/1.5,\"b\",fontsize=18)               \n",
    "    ax.text(1983.,2.3,ts1)\n",
    "    ax.text(1983.,2.12,ts2)\n",
    "    ax.text(1983.,1.98,ts3)\n",
    "    \n",
    "ttle = site\n",
    "if(adjust_inventories==True):\n",
    "    ttle = ttle+r\" (adj.)\"\n",
    "if(use_eps==True):\n",
    "    ttle = ttle+r\" with eps\"\n",
    "#plt.title(ttle,fontsize=14)\n",
    "figname = site+itext+etext+\"DDE_DDMU_DDNU_rev.png\"\n",
    "plt.savefig(figname, bbox_inches='tight')"
   ]
  },
  {
   "cell_type": "code",
   "execution_count": null,
   "metadata": {
    "collapsed": true
   },
   "outputs": [],
   "source": []
  }
 ],
 "metadata": {
  "anaconda-cloud": {},
  "kernelspec": {
   "display_name": "Python 2",
   "language": "python",
   "name": "python2"
  },
  "language_info": {
   "codemirror_mode": {
    "name": "ipython",
    "version": 2
   },
   "file_extension": ".py",
   "mimetype": "text/x-python",
   "name": "python",
   "nbconvert_exporter": "python",
   "pygments_lexer": "ipython2",
   "version": "2.7.12"
  }
 },
 "nbformat": 4,
 "nbformat_minor": 0
}
