{
 "cells": [
  {
   "cell_type": "markdown",
   "metadata": {},
   "source": [
    "##### Linear regression tests\n",
    "This notebook examines various formulae and calcs for unweighted least-squares linear regression"
   ]
  },
  {
   "cell_type": "code",
   "execution_count": 1,
   "metadata": {
    "ExecuteTime": {
     "end_time": "2017-04-09T19:02:44.895000",
     "start_time": "2017-04-09T19:02:43.794000"
    },
    "collapsed": false
   },
   "outputs": [
    {
     "name": "stdout",
     "output_type": "stream",
     "text": [
      "Slope: 0.426 +- 0.1897\n",
      "Intercept: 7.729 +- 2.8621\n",
      "r2 = 0.5023; chi-square = 13.935\n",
      "These should match. r2: 0.502306273063; r22: 0.502306273063\n",
      "These should match, but dont. chisq: 13.9354243542; chisq2: 13.9354243542\n"
     ]
    },
    {
     "data": {
      "text/plain": [
       "13.935424354243541"
      ]
     },
     "execution_count": 1,
     "metadata": {},
     "output_type": "execute_result"
    }
   ],
   "source": [
    "import numpy as np\n",
    "from scipy import stats\n",
    "\n",
    "# As suggested in https://www.dataquest.io/blog/jupyter-notebook-tips-tricks-shortcuts/\n",
    "from IPython.core.interactiveshell import InteractiveShell\n",
    "InteractiveShell.ast_node_interactivity = \"all\"\n",
    "\n",
    "# Here is a little data set from Sachs, Table 109\n",
    "x = np.array((13,17,10,17,20,11,15))\n",
    "y = np.array((12,17,11,13,16,14,15))\n",
    "\n",
    "def lsfit_Sachs(x,y,iverbose=1):\n",
    "    # notation per L. Sachs, 1984, Applied Statistics, Springer-Verlag, p. 417\n",
    "    n = float(x.size)\n",
    "    sumx = np.sum(x)\n",
    "    sumy = np.sum(y)\n",
    "\n",
    "    sumx2 = np.sum(x * x)\n",
    "    sumy2 = np.sum(y * y)\n",
    "    sumxy = np.sum(x * y)\n",
    "\n",
    "    Qx = sumx2-sumx**2/n\n",
    "    Qy = sumy2-sumy**2/n\n",
    "    Qxy = sumxy-(1./n)*sumx*sumy\n",
    "\n",
    "    xbar = sumx/n\n",
    "    ybar = sumy/n\n",
    "\n",
    "    b = Qxy/Qx\n",
    "    a = (sumy-b*sumx)/n\n",
    "\n",
    "    sx = np.sqrt(Qx/(n-1))\n",
    "    sy = np.sqrt(Qy/(n-1))\n",
    "    r = Qxy/np.sqrt(Qx*Qy)\n",
    "    r2 = r*r\n",
    "    Qydotx = Qy-b*Qxy\n",
    "    sydotx = np.sqrt( Qydotx/(n-2) )\n",
    "\n",
    "    # s.d. of intercept and slope\n",
    "    sb = sydotx/np.sqrt(Qx)\n",
    "    sa = sydotx*(np.sqrt(1./n+xbar**2/Qx))\n",
    "\n",
    "    yhat = a+b*x\n",
    "    # PTVF = Press et al., 1992, Numerical Recipes in FORTRAN, Second Edtion\n",
    "    # For unweighted least-squares\n",
    "    chisq = sum( (y-yhat)**2 ) #PTVF eqn. 15.2.2, but with all weights = 1\n",
    "    if(iverbose):\n",
    "        print('Slope: {0:.3f} +- {1:.4f}\\nIntercept: {2:.3f} +- {3:.4f}\\nr2 = {4:.4f}; chi-square = {5:.3f}'\\\n",
    "              .format(b,sb,a,sa,r2,chisq))\n",
    "    return b,sb,a,sa,r2,chisq\n",
    "\n",
    "b,sb,a,sa,r2,chisq = lsfit_Sachs(x,y)\n",
    "\n",
    "# this is an equivilant expression for r2 that can be computed outside the fitting routine\n",
    "ybar =np.mean(y)\n",
    "yhat = a+b*x\n",
    "r22 = np.sum((yhat-ybar)**2)/np.sum((y-ybar)**2)\n",
    "print(\"These should match. r2: {}; r22: {}\".format(r2,r22))\n",
    "\n",
    "# this is how to calc. chi-square from r2 for unweighted regression\n",
    "chisq2 = (1.-r2)*np.sum((y-ybar)**2) #PTVF 15.2.13 and 14\n",
    "print(\"These should match, but dont. chisq: {}; chisq2: {}\".format(chisq,chisq2))\n",
    "\n",
    "# what about:\n",
    "chisq3 = np.sum( (y-yhat)**2  )\n",
    "chisq3"
   ]
  },
  {
   "cell_type": "code",
   "execution_count": 2,
   "metadata": {
    "ExecuteTime": {
     "end_time": "2017-04-09T19:02:44.948000",
     "start_time": "2017-04-09T19:02:44.897000"
    },
    "collapsed": false
   },
   "outputs": [
    {
     "name": "stdout",
     "output_type": "stream",
     "text": [
      "Slope: 0.426 +- 0.1897\n",
      "Intercept: 7.729 +- 2.8621\n",
      "r2 = 0.5023; chi-square = 13.935\n",
      "These should match. r2: 0.502306273063; r22: 0.502306273063\n",
      "These should match. chisq: 13.9354243542; chisq2: 13.9354243542\n"
     ]
    }
   ],
   "source": [
    "# PTVF = Press et al., 1992, Numerical Recipes in FORTRAN, Second Edtion\n",
    "\n",
    "# this routine requires weights (e.g., array with std. dev. of y values)\n",
    "# Weights of one produce unweighted least-squares\n",
    "def lsfit_Press(x,y,sig,iverbose=1):   \n",
    "    n = float(x.size)\n",
    "    sx = np.sum(x/sig**2)\n",
    "    sy = np.sum(y/sig**2)\n",
    "    ss = sum(1./sig**2)\n",
    "    sxoss = sx/ss\n",
    "    syoss = sy/ss\n",
    "    t = (1./sig)*(x-sx/ss)\n",
    "    st2 = np.sum(t**2)\n",
    "    b = np.sum( (t*y)/sig )/st2\n",
    "    a = (sy-sx*b)/ss\n",
    "    siga = np.sqrt((1.+sx**2/(ss*st2))/ss)\n",
    "    sigb = np.sqrt(1./st2)\n",
    "    chi2 = sum( ((y-a-b*x)/sig)**2 ) #PTVF eqn. 15.2.2\n",
    "    sigdat= np.sqrt(chi2/(n-2))\n",
    "    siga=siga*sigdat\n",
    "    sigb=sigb*sigdat\n",
    "\n",
    "    r2 = np.sum((yhat-syoss)**2)/np.sum((y-syoss)**2)\n",
    "    if(iverbose):\n",
    "        print('Slope: {0:.3f} +- {1:.4f}\\nIntercept: {2:.3f} +- {3:.4f}\\nr2 = {4:.4f}; chi-square = {5:.3f}'\\\n",
    "              .format(b,sigb,a,siga,r2,chisq))\n",
    "    return b,sb,a,sa,r2,chisq\n",
    "sig = np.ones_like(x)\n",
    "b,sb,a,sa,r2,chisq = lsfit_Press(x,y,sig)\n",
    "\n",
    "# this is an equivilent expression for r2 that can be computed outside the fitting routine\n",
    "ybar =np.mean(y)\n",
    "yhat = a+b*x\n",
    "r22 = np.sum((yhat-ybar)**2)/np.sum((y-ybar)**2)\n",
    "print(\"These should match. r2: {}; r22: {}\".format(r2,r22))\n",
    "\n",
    "# this is how to calc. chi-square from r2 for unweighted regression\n",
    "chisq2 = (1.-r2)*np.sum((y-ybar)**2) #PTVF 15.2.13 and 14\n",
    "print(\"These should match. chisq: {}; chisq2: {}\".format(chisq,chisq2))\n"
   ]
  },
  {
   "cell_type": "code",
   "execution_count": 3,
   "metadata": {
    "ExecuteTime": {
     "end_time": "2017-04-09T19:02:45.006000",
     "start_time": "2017-04-09T19:02:44.953000"
    },
    "collapsed": false
   },
   "outputs": [
    {
     "name": "stdout",
     "output_type": "stream",
     "text": [
      "Slope: 0.426 +- 0.1897\n",
      "Intercept: 7.729 +- 0.0000\n",
      "r2 = 0.5023\n"
     ]
    }
   ],
   "source": [
    "# This is the Scipy version. It should agree, but it does not return uncertainty for the intercept.\n",
    "slope, intercept, r_value, p_value, std_err = stats.linregress(x,y)\n",
    "print('Slope: {0:.3f} +- {1:.4f}\\nIntercept: {2:.3f} +- {3:.4f}\\nr2 = {4:.4f}'.format(slope,std_err,intercept,0,r_value**2))\n"
   ]
  },
  {
   "cell_type": "code",
   "execution_count": null,
   "metadata": {
    "collapsed": true
   },
   "outputs": [],
   "source": []
  }
 ],
 "metadata": {
  "kernelspec": {
   "display_name": "Python 2",
   "language": "python",
   "name": "python2"
  },
  "language_info": {
   "codemirror_mode": {
    "name": "ipython",
    "version": 2
   },
   "file_extension": ".py",
   "mimetype": "text/x-python",
   "name": "python",
   "nbconvert_exporter": "python",
   "pygments_lexer": "ipython2",
   "version": "2.7.12"
  }
 },
 "nbformat": 4,
 "nbformat_minor": 1
}
