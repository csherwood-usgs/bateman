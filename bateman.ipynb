{
 "cells": [
  {
   "cell_type": "markdown",
   "metadata": {},
   "source": [
    "<h2>Bateman Equations for Multiple Decay</h2>\n",
    "\n",
    "The inventory of each of four compounds was calculated assuming a multi-step reaction model. These calculations require several assumptions (Eganhouse and Pontolillo, 2008), as follows: (1) reactions and loss occur through first-order kinetics; (2) the only competing reaction is loss through unspecified physical processes discussed below; and (3) rates are constant over time and uniform throughout the sediment deposit (except the physical loss rate). The time-rate of change in $DDE$ inventory was determined by dechlorination to $DDMU$ and by possible losses through other processes. Likewise, the change in $DDMU$ inventory was determined losses from dechlorination to $DDNU$, gains from dechlorination of parent $DDE$, and losses by other processes. $DDNU$ inventory changes were analogous, with losses to an unspecified compound, gains from parent $DDMU$, and possible losses through other processes. The inventory of the final, unspecified product changes with gains from transformation of $DDMU$ and possible losses to other processes. The coupled differential equations (1) are\n",
    "\n",
    "$\\begin{matrix}\n",
    "\\frac{d{{C}_{DDE}}}{dt}=-{{k}_{1}}{{C}_{DDE}}-{{k}_{4}}{{C}_{DDE}}  \\\\\n",
    "   \\frac{d{{C}_{DDMU}}}{dt}=-{{k}_{2}}{{C}_{DDMU}}+{{k}_{1}}{{C}_{DDE}}-{{k}_{4}}{{C}_{DDMU}}  \\\\\n",
    "   \\frac{d{{C}_{DDNU}}}{dt}=-{{k}_{3}}{{C}_{DDNU}}+{{k}_{2}}{{C}_{DDMU}}-{{k}_{4}}{{C}_{DDNU}}  \\\\\n",
    "   \\frac{d{{C}_{UN}}}{dt}={{k}_{3}}{{C}_{DDNU}}-{{k}_{4}}{{C}_{UN}}  \\\\\n",
    "\\end{matrix}$\n",
    "\n",
    "where the molar concentrations $C$ [$\\mu$mol/kg dry sediment] of each compound and the transformation rate coefficients  [y-1] are labeled with subscripts. The losses to other processes accounted for physical removal of compounds from the sediment. Processes that have been suggested include direct desorption, resuspension and desorption, desorption into porewater and irrigation, and uptake by benthic deposit feeders. We have assumed that the combined rate coefficient for these processes applies equally to all four compounds. \n"
   ]
  },
  {
   "cell_type": "markdown",
   "metadata": {},
   "source": [
    "##### Import dependencies\n",
    "LmFit (https://lmfit.github.io/lmfit-py/) \"provides a high-level interface to non-linear optimization and curve fitting problems\"."
   ]
  },
  {
   "cell_type": "code",
   "execution_count": 1,
   "metadata": {
    "collapsed": true
   },
   "outputs": [],
   "source": [
    "from scipy.integrate import odeint\n",
    "from pylab import *\n",
    "from lmfit import *\n",
    "%matplotlib inline"
   ]
  },
  {
   "cell_type": "markdown",
   "metadata": {},
   "source": [
    "##### The next cell contains key switches\n",
    "* Identify which site to process\n",
    "* Choose whether to adjust the inventories according to PCB anomolies. If selected `adjust_inventories` is `True` then computations are performed using adjusted invetories ${{C}_{i,\\,adj}}$, where  $${{C}_{i,\\,adj}}={{C}_{i}}\\frac{\\overline{PCB}}{{{\\left\\langle PCB \\right\\rangle }_{i}}}$$ where $C_i$ is the one of the measured inventory values, ${\\left\\langle PCB \\right\\rangle }_{i}$ is the average (over all congeners) of the PCB inventory at time $i$, and $\\overline{PCB}$ is the time-average of ${\\left\\langle PCB \\right\\rangle }_{i}$\n",
    "\n",
    "* Choose whether to include estimates of the std. deviations $\\sigma_i$ of inventories in the objective function. The objective function returns an array of length $N$ for each observation $data_i$ and associated modeled result $model_i$ and is calculated as $$\\frac{{{\\left( mode{{l}_{i}}-dat{{a}_{i}} \\right)}^{2}}}{\\sigma _{i}^{2}}$$ If `use_eps` is `False`, $\\sigma = 1$."
   ]
  },
  {
   "cell_type": "code",
   "execution_count": 30,
   "metadata": {
    "collapsed": true
   },
   "outputs": [],
   "source": [
    "# Pick one of the two sites\n",
    "#site = 'Site 3C'\n",
    "site = 'Site 6C'\n",
    "\n",
    "# Adjust using PCBs?\n",
    "adjust_inventories=False\n",
    "# Use std. deviations in chi-square calculation?\n",
    "use_eps=True\n",
    "\n",
    "# These strings are used to build filenames for the output figures\n",
    "itext = '_'\n",
    "if adjust_inventories:\n",
    "    itext = \"_adj_\"\n",
    "etext = '_'\n",
    "if use_eps:\n",
    "    etext = \"_eps_\""
   ]
  },
  {
   "cell_type": "markdown",
   "metadata": {},
   "source": [
    "##### These data are from spreadsheet e-mailed to CRS from Bob Eganhouse 16-Dec-2016 'Inventories for C.Sherwood 12-16-2016.xlsx'"
   ]
  },
  {
   "cell_type": "code",
   "execution_count": 12,
   "metadata": {
    "collapsed": false
   },
   "outputs": [
    {
     "name": "stdout",
     "output_type": "stream",
     "text": [
      "Data from Site 6C with shape (4L, 7L)\n",
      "1992.5200  3.0700  0.6700  0.0260  0.0182  0.0119  0.0152  \n",
      "2003.5800  2.7500  0.8700  0.0720  0.0177  0.0122  0.0158  \n",
      "2009.2300  2.3700  0.7500  0.0950  0.0172  0.0095  0.0134  \n",
      "2010.3100  1.1600  0.4300  0.0460  0.0079  0.0054  0.0065  \n"
     ]
    }
   ],
   "source": [
    "# Load data for the selected site\n",
    "if site == 'Site 3C':\n",
    "    A=np.array([\\\n",
    "    [1981.27,1.34,0.07,0.004,0.0081,0.0062,0.0076],\\\n",
    "    [1992.51,0.71,0.25,0.012,0.0066,0.0049,0.0064],\\\n",
    "    [2003.58,0.39,0.32,0.036,0.0050,0.0037,0.0050],\\\n",
    "    [2009.23,0.38,0.52,0.069,0.0076,0.0076,0.0085],\\\n",
    "    [2010.31,0.41,0.52,0.085,0.0075,0.0072,0.0079]])\n",
    "if site == 'Site 6C':\n",
    "    A=np.array([\\\n",
    "    [1992.52,3.07,0.67,0.026,0.0182,0.0119,0.0152],\\\n",
    "    [2003.58,2.75,0.87,0.072,0.0177,0.0122,0.0158],\\\n",
    "    [2009.23,2.37,0.75,0.095,0.0172,0.0095,0.0134],\\\n",
    "    [2010.31,1.16,0.43,0.046,0.0079,0.0054,0.0065]])\n",
    "\n",
    "t = A[:,0]\n",
    "DDE=A[:,1]\n",
    "DDMU=A[:,2]\n",
    "DDNU=A[:,3]\n",
    "\n",
    "print(\"Data from {0} with shape {1}\".format(site,A.shape))\n",
    "print('\\n'.join([''.join(['{:5.4f}  '.format(item) for item in row]) \n",
    "      for row in A]))"
   ]
  },
  {
   "cell_type": "markdown",
   "metadata": {},
   "source": [
    "##### Stand-alone example of integrating the coupled ODEs"
   ]
  },
  {
   "cell_type": "code",
   "execution_count": 13,
   "metadata": {
    "collapsed": false,
    "scrolled": true
   },
   "outputs": [
    {
     "data": {
      "text/plain": [
       "<matplotlib.legend.Legend at 0xd5a2e10>"
      ]
     },
     "execution_count": 13,
     "metadata": {},
     "output_type": "execute_result"
    },
    {
     "data": {
      "image/png": "[encoded data removed]",
      "text/plain": [
       "<matplotlib.figure.Figure at 0xd10d7f0>"
      ]
     },
     "metadata": {},
     "output_type": "display_data"
    }
   ],
   "source": [
    "# In my previous notebook decay rates were global variables\n",
    "# so they can be seen inside the function. That is not necessary\n",
    "# if you use the args = (k,) syntax\n",
    "k = np.array([.046, .056, .46, .0])\n",
    "\n",
    "# define a function to represent coupled ordinary differential eqns.\n",
    "# this version allows for a fourth loss term that applies to all compounds\n",
    "def dcdt(c, t, k):\n",
    "    dfdt = np.zeros(4)\n",
    "    dfdt[0] = c[0]* -k[0] - c[0]*k[3]\n",
    "    dfdt[1] = c[1]* -k[1] + c[0]*k[0] - c[1]*k[3] \n",
    "    dfdt[2] = c[2]* -k[2] + c[1]*k[1] - c[2]*k[3]\n",
    "    dfdt[3] =               c[2]*k[2] - c[3]*k[3]\n",
    "    return dfdt\n",
    "    \n",
    "# intial concentration for four constituents\n",
    "C0e = np.array([1.34, .07, .004, 0.])\n",
    "\n",
    "# time array\n",
    "# te = linspace(0.0,100.,50)\n",
    "\n",
    "# or, for discrete times that match Site 6C measurements:\n",
    "te = np.array(( 1981.27, 1992.51, 2003.58, 2009.23, 2010.31 ))\n",
    "\n",
    "# Use the \n",
    "Ce = odeint(dcdt,C0e,te, args = (k,))\n",
    "\n",
    "fig = plt.figure()\n",
    "plt.plot(te,Ce[:,0],label='$DDE$')\n",
    "plt.plot(te,Ce[:,1],label='$DDMU$')\n",
    "plt.plot(te,Ce[:,2],label='$DDNU$')\n",
    "plt.plot(te,Ce[:,3],label='?')\n",
    "plt.xlabel('Time (years)')\n",
    "plt.ylabel('Concentration ($\\mu$mol / kg)')\n",
    "plt.legend(loc='upper right')"
   ]
  },
  {
   "cell_type": "markdown",
   "metadata": {},
   "source": [
    "##### Define the model\n",
    "This is a simpler version with no global decay rate, and no fourth-generation product. It is a coupled set of ordinary differential equations that, in the model, are integrated with the `scipy.odeint` function."
   ]
  },
  {
   "cell_type": "code",
   "execution_count": 14,
   "metadata": {
    "collapsed": true
   },
   "outputs": [],
   "source": [
    "# Version of ODE with three-generation transformation and only three transfer terms\n",
    "def dcdt3(c, t, k):\n",
    "    dfdt = np.zeros(3)\n",
    "    dfdt[0] = c[0]* -k[0]\n",
    "    dfdt[1] = c[1]* -k[1] + c[0]*k[0]\n",
    "    dfdt[2] = c[2]* -k[2] + c[1]*k[1]\n",
    "    return dfdt"
   ]
  },
  {
   "cell_type": "markdown",
   "metadata": {},
   "source": [
    "##### Define the objective functions to minimize\n",
    "These functions return the quantity that lmfit will try to minimize. They are returned as vectors of length $N$, the number of data points (and corresponding model estimates). The RMS of this vector is the chi-square goodness of fit."
   ]
  },
  {
   "cell_type": "code",
   "execution_count": 15,
   "metadata": {
    "collapsed": true
   },
   "outputs": [],
   "source": [
    "# Objective function to minimize, fit through origin, estimate decay rate\n",
    "def residual(params, t, data, eps_data):\n",
    "    C0 = data[0]\n",
    "    k = params['decay_rate']\n",
    "    model = C0*np.exp(-k*(t-t[0]))\n",
    "    return (data-model)/eps_data\n",
    "\n",
    "# Objective function to minimize, estimate origin and decay rate\n",
    "def residual2(params, t, data, eps_data):\n",
    "    C0 = params['init_conc']\n",
    "    k = params['decay_rate']\n",
    "    model = C0*np.exp(-k*(t-t[0]))\n",
    "    return (data-model)/eps_data\n",
    "\n",
    "# Objective function using ODE for three-generation transformation \n",
    "def residual3(params, t, data, eps_data):\n",
    "    # Data is passed as a vector\n",
    "    # Index on length of time array to find intitial concentrations\n",
    "    nt = t.size\n",
    "    k = np.array((params['k1'],params['k2'],params['k3']))\n",
    "    C0 = np.array((data[0],data[nt],data[2*nt]))\n",
    "    C = odeint(dcdt3,C0,t, args = (k,))\n",
    "    model = np.concatenate((C[:,0],C[:,1],C[:,2]))\n",
    "    return (data-model)/eps_data\n",
    "    "
   ]
  },
  {
   "cell_type": "code",
   "execution_count": 16,
   "metadata": {
    "collapsed": false
   },
   "outputs": [
    {
     "name": "stdout",
     "output_type": "stream",
     "text": [
      "Average PCB inventories\n",
      "[ 0.01505  0.01495  0.01335  0.00665]\n",
      "Adjustment factor\n",
      "[ 0.83056478  0.8361204   0.93632959  1.87969925]\n",
      "eps_adj\n",
      "[ 0.04152824  0.04180602  0.04681648  0.09398496]\n",
      "Std. deviation of normalized PCB inventories: 0.440\n",
      "\n",
      "DDE data: \n",
      "[ 3.07  2.75  2.37  1.16]\n",
      "eps_data: \n",
      "[ 0.1535  0.1375  0.1185  0.058 ]\n"
     ]
    }
   ],
   "source": [
    "# guess at std. error in measurements per conv. with R.E.\n",
    "stde_DDE  = 0.05          #RE suggests 0.05\n",
    "stde_DDMU = 0.09          #RE suggested 0.1\n",
    "stde_DDNU = 0.1          #RE suggested 0.1\n",
    "stde_PCB  = 0.05          # std. error of measurements is around 0.2\n",
    "eps_DDE  = stde_DDE*DDE  \n",
    "eps_DDMU = stde_DDMU*DDMU #RE suggested 0.1\n",
    "eps_DDNU = stde_DDNU*DDNU #RE suggested 0.2\n",
    "\n",
    "# calculate adjustment according to mean of all PCBs inventory\n",
    "pcbm = A[:,4:6].mean(axis=1)\n",
    "adj = pcbm.mean()/pcbm\n",
    "print(\"Average PCB inventories\")\n",
    "print(pcbm)\n",
    "print(\"Adjustment factor\")\n",
    "print(adj)\n",
    "print(\"eps_adj\")\n",
    "eps_adj = stde_PCB*adj\n",
    "print(eps_adj)\n",
    "print(\"Std. deviation of normalized PCB inventories: {0:5.3f}\\n\".format(adj.std()))\n",
    "\n",
    "# Data for DDE loss only\n",
    "data = DDE\n",
    "eps_data = ones_like(data)\n",
    "if use_eps:\n",
    "    eps_data = eps_DDE\n",
    "\n",
    "print('DDE data: ')\n",
    "print(data)\n",
    "print('eps_data: ')\n",
    "print(eps_data)\n",
    "\n",
    "# Adjust inventories according to PCB inventories?\n",
    "if(adjust_inventories):\n",
    "    data = data*adj\n",
    "    eps_data = ones_like(data)\n",
    "    if use_eps:\n",
    "        eps_data = np.sqrt( eps_DDE**2. + eps_adj**2. )\n",
    "    \n",
    "    print('Adjusted DDE data: ')\n",
    "    print(data)\n",
    "    print('Adjusted eps_data: ')\n",
    "    print(eps_data)\n",
    "\n",
    "params = Parameters()\n",
    "# Note that this does not work if there are extra parameters\n",
    "#params.add('init_conc',value = 1., min = 0., max= 5.)\n",
    "params.add('decay_rate',value = 0.4, min =0., max = 1.)\n",
    "out = minimize(residual, params, method='leastsq', args=(t,data,eps_data))\n",
    "\n",
    "# Get the fitted rates\n",
    "k1f=out.params['decay_rate'].value\n",
    "k1e = out.params['decay_rate'].stderr\n",
    "\n",
    "# Get fit metrics\n",
    "chis = out.chisqr\n",
    "chir = out.redchi"
   ]
  },
  {
   "cell_type": "code",
   "execution_count": 17,
   "metadata": {
    "collapsed": false
   },
   "outputs": [
    {
     "name": "stdout",
     "output_type": "stream",
     "text": [
      "\n",
      "Estimate decay rate with fit through origin\n",
      " Site 6C\n",
      "  Using estimates of std. errors\n",
      "[[Fit Statistics]]\n",
      "    # function evals   = 16\n",
      "    # data points      = 4\n",
      "    # variables        = 1\n",
      "    chi-square         = 112.463\n",
      "    reduced chi-square = 37.488\n",
      "    Akaike info crit   = 15.345\n",
      "    Bayesian info crit = 14.732\n",
      "[[Variables]]\n",
      "    decay_rate:   0.04128435 +/- 0.011660 (28.24%) (init= 0.4)\n",
      "[[Correlations]] (unreported correlations are <  0.100)\n"
     ]
    },
    {
     "data": {
      "image/png": "[encoded data removed]",
      "text/plain": [
       "<matplotlib.figure.Figure at 0xd24bcf8>"
      ]
     },
     "metadata": {},
     "output_type": "display_data"
    }
   ],
   "source": [
    "# Run the model with those fits, plus or minus\n",
    "tm = linspace(t[0],2020.,50)\n",
    "\n",
    "# or, for discrete times that match measurements:\n",
    "#t = np.array(( 1981.27, 1992.51, 2003.58, 2009.23, 2010.31 ))\n",
    "\n",
    "# Use the \n",
    "Cm = data[0]*exp(-k1f*(tm-tm[0]))\n",
    "Cl = data[0]*exp(-(k1f+k1e)*(tm-tm[0]))\n",
    "Ch = data[0]*exp(-(k1f-k1e)*(tm-tm[0]))\n",
    "\n",
    "fig = plt.figure()\n",
    "plt.plot(tm,Cl,'--',color='gray')\n",
    "plt.plot(tm,Ch,'--',color='gray')\n",
    "plt.plot(tm,Cm,'-', color='red',label='$Model$')\n",
    "h=plt.plot(t,data,'o',color='red',markersize=12,linestyle='None',label='$Data$')\n",
    "plt.setp(h,linestyle='None')\n",
    "plt.errorbar(t,data, yerr=eps_DDE,color='red',elinewidth=2,linestyle='None')\n",
    "plt.xlabel(r'Time (years)', fontsize=14)\n",
    "plt.ylabel(r'Concentration ($\\mu$ mol / cm$^2$)',fontsize=14)\n",
    "plt.legend(loc='upper right')\n",
    "plt.title(site,fontsize=14)\n",
    "\n",
    "print('\\nEstimate decay rate with fit through origin')\n",
    "print(\" {}\".format(site))\n",
    "if(adjust_inventories):\n",
    "    print(\"  Inventories adjusted by mean PCB inventories\")\n",
    "if(use_eps):\n",
    "    print(\"  Using estimates of std. errors\")\n",
    "report_fit(out)"
   ]
  },
  {
   "cell_type": "code",
   "execution_count": 18,
   "metadata": {
    "collapsed": false
   },
   "outputs": [
    {
     "name": "stdout",
     "output_type": "stream",
     "text": [
      "\n",
      "Estimate decay rate and initial conc\n",
      " Site 6C\n",
      "  Using estimates of std. errors\n",
      "[[Fit Statistics]]\n",
      "    # function evals   = 29\n",
      "    # data points      = 4\n",
      "    # variables        = 2\n",
      "    chi-square         = 109.445\n",
      "    reduced chi-square = 54.722\n",
      "    Akaike info crit   = 17.237\n",
      "    Bayesian info crit = 16.009\n",
      "[[Variables]]\n",
      "    init_conc:    3.32203925 +/- 1.104283 (33.24%) (init= 1)\n",
      "    decay_rate:   0.04588673 +/- 0.024424 (53.23%) (init= 0.4)\n",
      "[[Correlations]] (unreported correlations are <  0.100)\n",
      "    C(init_conc, decay_rate)     =  0.817 \n"
     ]
    }
   ],
   "source": [
    "print('\\nEstimate decay rate and initial conc')\n",
    "print(\" {}\".format(site))\n",
    "if(adjust_inventories):\n",
    "    print(\"  Inventories adjusted by mean PCB inventories\")\n",
    "if(use_eps):\n",
    "    print(\"  Using estimates of std. errors\")\n",
    "params = Parameters()\n",
    "params.add('init_conc',value = 1., min = 0., max= 5.)\n",
    "params.add('decay_rate',value = 0.4, min =0., max = 1.)\n",
    "out = minimize(residual2, params, method='leastsq', args=(t,data,eps_data))\n",
    "report_fit(out)"
   ]
  },
  {
   "cell_type": "code",
   "execution_count": 35,
   "metadata": {
    "collapsed": false
   },
   "outputs": [
    {
     "name": "stdout",
     "output_type": "stream",
     "text": [
      "data\n",
      "[ 3.07   2.75   2.37   1.16   0.67   0.87   0.75   0.43   0.026  0.072\n",
      "  0.095  0.046]\n",
      "eps_data\n",
      "[ 0.1535  0.1375  0.1185  0.058   0.0603  0.0783  0.0675  0.0387  0.0026\n",
      "  0.0072  0.0095  0.0046]\n",
      "('residual3 shape:', (12L,))\n",
      "sumsq resdisuals: 59.4926037793\n",
      "\n",
      "Full Monty - Fit to DDE, DDMU, and DDNU\n",
      " Site 6C\n",
      "  Using estimates of std. errors\n",
      "[[Fit Statistics]]\n",
      "    # function evals   = 40\n",
      "    # data points      = 12\n",
      "    # variables        = 3\n",
      "    chi-square         = 155.881\n",
      "    reduced chi-square = 17.320\n",
      "    Akaike info crit   = 36.770\n",
      "    Bayesian info crit = 38.225\n",
      "[[Variables]]\n",
      "    k1:   0.04191350 +/- 0.007968 (19.01%) (init= 0.4)\n",
      "    k2:   0.14739762 +/- 0.035143 (23.84%) (init= 0.4)\n",
      "    k3:   1.43912614 +/- 0.378779 (26.32%) (init= 0.4)\n",
      "[[Correlations]] (unreported correlations are <  0.100)\n",
      "    C(k1, k2)                    =  0.376 \n",
      "    C(k1, k3)                    =  0.376 \n",
      "    C(k2, k3)                    =  0.159 \n",
      "4\n",
      "(4L,)\n",
      "(4L,)\n",
      "(12L,)\n"
     ]
    },
    {
     "data": {
      "image/png": "[encoded data removed]",
      "text/plain": [
       "<matplotlib.figure.Figure at 0xe690a90>"
      ]
     },
     "metadata": {},
     "output_type": "display_data"
    }
   ],
   "source": [
    "# Put data for all compounds in a single vector\n",
    "nt = t.size\n",
    "data = np.concatenate((DDE,DDMU,DDNU))\n",
    "eps_data = np.ones_like(data)\n",
    "if(use_eps):\n",
    "    eps_data = np.concatenate((eps_DDE,eps_DDMU,eps_DDNU))\n",
    "\n",
    "if(adjust_inventories):\n",
    "    # calculate adjustment according to mean of all PCBs inventory\n",
    "    # this is redone here because size of adj will change here\n",
    "    pcbm = A[:,4:6].mean(axis=1)\n",
    "    adjv = pcbm.mean()/pcbm\n",
    "    adj = np.concatenate( (adjv, adjv, adjv) )\n",
    "    data = data*adj\n",
    "    eps_adj =  np.ones_like(data)\n",
    "    if use_eps:\n",
    "        eps_adjv = stde_PCB*adjv\n",
    "        eps_adj = np.concatenate((eps_adjv,eps_adjv,eps_adjv))\n",
    "        eps_data = np.sqrt( (eps_data**2. + eps_adj**2. ) )\n",
    "\n",
    "print('data')\n",
    "print(data)\n",
    "print('eps_data')\n",
    "print(eps_data)\n",
    "\n",
    "params = Parameters()\n",
    "params.add('k1',value = 0.4, min =0., max = 1.)\n",
    "params.add('k2',value = 0.4, min =0., max = 1.)\n",
    "params.add('k3',value = 0.4, min =0., max = 1.5)\n",
    "\n",
    "# Test the ODE solver\n",
    "k = np.array((params['k1'],params['k2'],params['k3']))\n",
    "C0 = np.array((data[0],data[nt],data[2*nt]))\n",
    "C = odeint(dcdt3,C0,t, args = (k,))\n",
    "model = np.concatenate((C[:,0],C[:,1],C[:,2]))\n",
    "\n",
    "# Test the objective function outside\n",
    "res = residual3(params, t, data, eps_data)\n",
    "print(\"residual3 shape:\",shape(res))\n",
    "print(\"sumsq resdisuals: {:}\".format( np.sqrt(sum(res**2))))\n",
    "\n",
    "# Optimize the parameters using least-squares fit\n",
    "out = minimize(residual3, params, method='leastsq', args=(t,data,eps_data))\n",
    "\n",
    "# Get the fitted rates\n",
    "kf = np.zeros((3,))\n",
    "kf[0]=out.params['k1'].value\n",
    "kf[1]=out.params['k2'].value\n",
    "kf[2]=out.params['k3'].value\n",
    "ke = np.zeros((3,))\n",
    "ke[0] = out.params['k1'].stderr\n",
    "ke[1] = out.params['k2'].stderr\n",
    "ke[2] = out.params['k3'].stderr\n",
    "\n",
    "# Get fit metrics\n",
    "chis = out.chisqr\n",
    "chir = out.redchi\n",
    "\n",
    "# Run the ODE solver with best-fit results\n",
    "tm = linspace(t[0],2020.,50)\n",
    "C0 = np.array((data[0],data[nt],data[2*nt]))\n",
    "Cm = odeint(dcdt3,C0,tm, args = (kf,))\n",
    "\n",
    "# now run it for all of the cases with +/- uncertainty\n",
    "kmult = np.array((0.,1.,-1.))\n",
    "kep = np.zeros((27,3))\n",
    "Cc = np.zeros_like(Cm)\n",
    "Cmax = np.zeros_like(Cm)\n",
    "Cmin = np.zeros_like(Cm)\n",
    "C1 = np.zeros((27,50))\n",
    "C2 = np.zeros((27,50))\n",
    "C3 = np.zeros((27,50))\n",
    "n =0\n",
    "for k in np.arange(3):\n",
    "    for j in np.arange(3):\n",
    "        for i in np.arange(3):\n",
    "            kep[n][0]=kf[0]+ke[0]*kmult[k]\n",
    "            kep[n][1]=kf[1]+ke[1]*kmult[i]\n",
    "            kep[n][2]=kf[2]+ke[2]*kmult[j]\n",
    "            C0 = np.array((data[0],data[nt],data[2*nt]))\n",
    "            Cc = odeint(dcdt3,C0,tm, args = (kep[n,:],))\n",
    "            C1[n,:] = Cc[:,0]\n",
    "            C2[n,:] = Cc[:,1]\n",
    "            C3[n,:] = Cc[:,2]\n",
    "            n=n+1\n",
    "\n",
    "Cmax[:,0] = np.amax(C1,axis=0)\n",
    "Cmin[:,0] = np.amin(C1,axis=0)\n",
    "Cmax[:,1] = np.amax(C2,axis=0)\n",
    "Cmin[:,1] = np.amin(C2,axis=0)\n",
    "Cmax[:,2] = np.amax(C3,axis=0)\n",
    "Cmin[:,2] = np.amin(C3,axis=0)\n",
    "\n",
    "print('\\nFull Monty - Fit to DDE, DDMU, and DDNU')\n",
    "print(\" {}\".format(site))\n",
    "if(adjust_inventories):\n",
    "    print(\"  Inventories adjusted by mean PCB inventories\")\n",
    "if(use_eps):\n",
    "    print(\"  Using estimates of std. errors\")\n",
    "report_fit(out)\n",
    "\n",
    "print(nt)\n",
    "print(shape(t))\n",
    "print(shape(data[0:nt]))\n",
    "print(shape(eps_data))\n",
    "\n",
    "\n",
    "fig = plt.figure(figsize=(4,3))\n",
    "plt.plot(tm,Cm[:,0]+Cm[:,1]+Cm[:,2],'-',color='gray',label=\"Total\")\n",
    "plt.plot(tm,Cmax[:,2],'--',color='blue')\n",
    "plt.plot(tm,Cmin[:,2],'--',color='blue')\n",
    "plt.plot(tm,Cmax[:,1],'--',color='purple')\n",
    "plt.plot(tm,Cmin[:,1],'--',color='purple')\n",
    "plt.plot(tm,Cmax[:,0],'--',color='red')\n",
    "plt.plot(tm,Cmin[:,0],'--',color='red')\n",
    "plt.plot(tm,Cm[:,2],'-', color='blue',linewidth=2)\n",
    "plt.plot(tm,Cm[:,1],'-', color='purple',linewidth=2)\n",
    "plt.plot(tm,Cm[:,0],'-', color='red',linewidth=2)\n",
    "plt.plot(t,data[0:nt],'o',color='red',markersize=12,linestyle='None',label='$DDE$')\n",
    "plt.plot(t,data[nt:2*nt],'o',color='purple',markersize=12,linestyle='None',label='$DDMU$')\n",
    "plt.plot(t,data[2*nt:3*nt],'o',color='blue',markersize=12,linestyle='None',label='$DDNU$')\n",
    "plt.setp(h,linestyle='None')\n",
    "plt.errorbar(t,data[0:nt], yerr=eps_data[0:nt],color='red',elinewidth=2,linestyle='None')\n",
    "plt.errorbar(t,data[nt:2*nt], yerr=eps_data[nt:2*nt],color='purple',elinewidth=2,linestyle='None')\n",
    "plt.errorbar(t,data[2*nt:3*nt], yerr=eps_data[2*nt:3*nt],color='blue',elinewidth=2,linestyle='None')\n",
    "plt.xticks(np.arange(1980,2020,10))\n",
    "labels = [item.get_text() for item in ax.get_xticklabels()]\n",
    "labels[1] = 'Testing'\n",
    "ax.set_xticklabels(labels)\n",
    "plt.xlabel(r'Time (years)', fontsize=14)\n",
    "if(site=='Site 6C'):\n",
    "    plt.ylabel(r'Concentration ($\\mu$ mol / cm$^2$)',fontsize=14)\n",
    "plt.legend(loc='upper right')\n",
    "plt.title(site,fontsize=14)\n",
    "figname = site+itext+etext+\"DDE_DDMU_DDNU.png\"\n",
    "plt.savefig(figname, bbox_inches='tight')"
   ]
  },
  {
   "cell_type": "code",
   "execution_count": null,
   "metadata": {
    "collapsed": true
   },
   "outputs": [],
   "source": []
  }
 ],
 "metadata": {
  "anaconda-cloud": {},
  "kernelspec": {
   "display_name": "Python 2",
   "language": "python",
   "name": "python2"
  },
  "language_info": {
   "codemirror_mode": {
    "name": "ipython",
    "version": 2
   },
   "file_extension": ".py",
   "mimetype": "text/x-python",
   "name": "python",
   "nbconvert_exporter": "python",
   "pygments_lexer": "ipython2",
   "version": "2.7.12"
  }
 },
 "nbformat": 4,
 "nbformat_minor": 0
}
