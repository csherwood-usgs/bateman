{
 "cells": [
  {
   "cell_type": "code",
   "execution_count": 1,
   "metadata": {
    "collapsed": false
   },
   "outputs": [
    {
     "data": {
      "text/html": [
       "<div>\n",
       "<table border=\"1\" class=\"dataframe\">\n",
       "  <thead>\n",
       "    <tr style=\"text-align: right;\">\n",
       "      <th></th>\n",
       "      <th>k (1/yr)</th>\n",
       "      <th>+/-</th>\n",
       "      <th>r2</th>\n",
       "      <th>chi2</th>\n",
       "      <th>t0</th>\n",
       "      <th>+/-</th>\n",
       "    </tr>\n",
       "  </thead>\n",
       "  <tbody>\n",
       "    <tr>\n",
       "      <th>linear</th>\n",
       "      <td>0.0</td>\n",
       "      <td>0.0</td>\n",
       "      <td>0.0</td>\n",
       "      <td>0.0</td>\n",
       "      <td>0.0</td>\n",
       "      <td>0.0</td>\n",
       "    </tr>\n",
       "    <tr>\n",
       "      <th>PCB 118</th>\n",
       "      <td>0.0</td>\n",
       "      <td>0.0</td>\n",
       "      <td>0.0</td>\n",
       "      <td>0.0</td>\n",
       "      <td>0.0</td>\n",
       "      <td>0.0</td>\n",
       "    </tr>\n",
       "    <tr>\n",
       "      <th>PCB 153</th>\n",
       "      <td>0.0</td>\n",
       "      <td>0.0</td>\n",
       "      <td>0.0</td>\n",
       "      <td>0.0</td>\n",
       "      <td>0.0</td>\n",
       "      <td>0.0</td>\n",
       "    </tr>\n",
       "    <tr>\n",
       "      <th>PCB 138</th>\n",
       "      <td>0.0</td>\n",
       "      <td>0.0</td>\n",
       "      <td>0.0</td>\n",
       "      <td>0.0</td>\n",
       "      <td>0.0</td>\n",
       "      <td>0.0</td>\n",
       "    </tr>\n",
       "    <tr>\n",
       "      <th>PCB 20</th>\n",
       "      <td>0.0</td>\n",
       "      <td>0.0</td>\n",
       "      <td>0.0</td>\n",
       "      <td>0.0</td>\n",
       "      <td>0.0</td>\n",
       "      <td>0.0</td>\n",
       "    </tr>\n",
       "    <tr>\n",
       "      <th>PCB 70</th>\n",
       "      <td>0.0</td>\n",
       "      <td>0.0</td>\n",
       "      <td>0.0</td>\n",
       "      <td>0.0</td>\n",
       "      <td>0.0</td>\n",
       "      <td>0.0</td>\n",
       "    </tr>\n",
       "    <tr>\n",
       "      <th>PCB All</th>\n",
       "      <td>0.0</td>\n",
       "      <td>0.0</td>\n",
       "      <td>0.0</td>\n",
       "      <td>0.0</td>\n",
       "      <td>0.0</td>\n",
       "      <td>0.0</td>\n",
       "    </tr>\n",
       "    <tr>\n",
       "      <th>non-lin, calc</th>\n",
       "      <td>0.0</td>\n",
       "      <td>0.0</td>\n",
       "      <td>0.0</td>\n",
       "      <td>0.0</td>\n",
       "      <td>0.0</td>\n",
       "      <td>0.0</td>\n",
       "    </tr>\n",
       "  </tbody>\n",
       "</table>\n",
       "</div>"
      ],
      "text/plain": [
       "               k (1/yr)  +/-   r2  chi2   t0  +/-\n",
       "linear              0.0  0.0  0.0   0.0  0.0  0.0\n",
       "PCB 118             0.0  0.0  0.0   0.0  0.0  0.0\n",
       "PCB 153             0.0  0.0  0.0   0.0  0.0  0.0\n",
       "PCB 138             0.0  0.0  0.0   0.0  0.0  0.0\n",
       "PCB 20              0.0  0.0  0.0   0.0  0.0  0.0\n",
       "PCB 70              0.0  0.0  0.0   0.0  0.0  0.0\n",
       "PCB All             0.0  0.0  0.0   0.0  0.0  0.0\n",
       "non-lin, calc       0.0  0.0  0.0   0.0  0.0  0.0"
      ]
     },
     "execution_count": 1,
     "metadata": {},
     "output_type": "execute_result"
    }
   ],
   "source": [
    "from scipy.integrate import odeint\n",
    "from pylab import *\n",
    "from lmfit import *\n",
    "from scipy import stats\n",
    "%matplotlib inline\n",
    "\n",
    "# This results in all bare variable names printing output\n",
    "# As suggested in https://www.dataquest.io/blog/jupyter-notebook-tips-tricks-shortcuts/\n",
    "from IPython.core.interactiveshell import InteractiveShell\n",
    "InteractiveShell.ast_node_interactivity = \"all\"\n",
    "\n",
    "import pandas as pd\n",
    "#from IPython.display import display, HTML\n",
    "\n",
    "# set up a dataframe for the results\n",
    "labels = ['linear','PCB 118','PCB 153','PCB 138','PCB 20','PCB 70','PCB All','non-lin, calc']\n",
    "\n",
    "zip = np.zeros(len(labels))\n",
    "df = pd.DataFrame({\"k (1/yr)\":zip,  \"+/-\":zip,\"r2\":zip,'chi2':zip,\"t0\":zip,\"+/-\":zip},index=labels, \\\n",
    "                  columns = [\"k (1/yr)\",\"+/-\",\"r2\",\"chi2\",\"t0\",\"+/-\"])\n",
    "\n",
    "#print \"Dataframe 1:\"\n",
    "#display(df)\n",
    "#print \"Dataframe 2:\"\n",
    "#HTML(df.to_html())\n",
    "df"
   ]
  },
  {
   "cell_type": "code",
   "execution_count": 2,
   "metadata": {
    "collapsed": false
   },
   "outputs": [],
   "source": [
    "# Test calculation of many cases\n",
    "site = 'Site 3C'\n",
    "\n",
    "# here  is how to print the key and value in a dict\n",
    "#for k, v in sorted(norm.items()):\n",
    "#    print k,v\n",
    "\n"
   ]
  },
  {
   "cell_type": "code",
   "execution_count": 3,
   "metadata": {
    "collapsed": false
   },
   "outputs": [
    {
     "data": {
      "text/html": [
       "<div>\n",
       "<table border=\"1\" class=\"dataframe\">\n",
       "  <thead>\n",
       "    <tr style=\"text-align: right;\">\n",
       "      <th></th>\n",
       "      <th>Year</th>\n",
       "      <th>DDE</th>\n",
       "      <th>DDMU</th>\n",
       "      <th>DDNU</th>\n",
       "      <th>PCB118</th>\n",
       "      <th>PCB153</th>\n",
       "      <th>PCB138</th>\n",
       "      <th>PCB28</th>\n",
       "      <th>PCB70</th>\n",
       "    </tr>\n",
       "  </thead>\n",
       "  <tbody>\n",
       "    <tr>\n",
       "      <th>0</th>\n",
       "      <td>1981.27</td>\n",
       "      <td>1.34</td>\n",
       "      <td>0.07</td>\n",
       "      <td>0.004</td>\n",
       "      <td>0.0081</td>\n",
       "      <td>0.0062</td>\n",
       "      <td>0.0076</td>\n",
       "      <td>0.0025</td>\n",
       "      <td>0.0077</td>\n",
       "    </tr>\n",
       "    <tr>\n",
       "      <th>1</th>\n",
       "      <td>1992.51</td>\n",
       "      <td>0.71</td>\n",
       "      <td>0.25</td>\n",
       "      <td>0.012</td>\n",
       "      <td>0.0066</td>\n",
       "      <td>0.0049</td>\n",
       "      <td>0.0064</td>\n",
       "      <td>0.0017</td>\n",
       "      <td>0.0057</td>\n",
       "    </tr>\n",
       "    <tr>\n",
       "      <th>2</th>\n",
       "      <td>2003.58</td>\n",
       "      <td>0.39</td>\n",
       "      <td>0.32</td>\n",
       "      <td>0.036</td>\n",
       "      <td>0.0050</td>\n",
       "      <td>0.0037</td>\n",
       "      <td>0.0050</td>\n",
       "      <td>0.0012</td>\n",
       "      <td>0.0038</td>\n",
       "    </tr>\n",
       "    <tr>\n",
       "      <th>3</th>\n",
       "      <td>2009.23</td>\n",
       "      <td>0.38</td>\n",
       "      <td>0.52</td>\n",
       "      <td>0.069</td>\n",
       "      <td>0.0076</td>\n",
       "      <td>0.0076</td>\n",
       "      <td>0.0085</td>\n",
       "      <td>0.0030</td>\n",
       "      <td>0.0057</td>\n",
       "    </tr>\n",
       "    <tr>\n",
       "      <th>4</th>\n",
       "      <td>2010.31</td>\n",
       "      <td>0.41</td>\n",
       "      <td>0.52</td>\n",
       "      <td>0.085</td>\n",
       "      <td>0.0075</td>\n",
       "      <td>0.0072</td>\n",
       "      <td>0.0079</td>\n",
       "      <td>0.0033</td>\n",
       "      <td>0.0061</td>\n",
       "    </tr>\n",
       "  </tbody>\n",
       "</table>\n",
       "</div>"
      ],
      "text/plain": [
       "      Year   DDE  DDMU   DDNU  PCB118  PCB153  PCB138   PCB28   PCB70\n",
       "0  1981.27  1.34  0.07  0.004  0.0081  0.0062  0.0076  0.0025  0.0077\n",
       "1  1992.51  0.71  0.25  0.012  0.0066  0.0049  0.0064  0.0017  0.0057\n",
       "2  2003.58  0.39  0.32  0.036  0.0050  0.0037  0.0050  0.0012  0.0038\n",
       "3  2009.23  0.38  0.52  0.069  0.0076  0.0076  0.0085  0.0030  0.0057\n",
       "4  2010.31  0.41  0.52  0.085  0.0075  0.0072  0.0079  0.0033  0.0061"
      ]
     },
     "execution_count": 3,
     "metadata": {},
     "output_type": "execute_result"
    },
    {
     "data": {
      "text/html": [
       "<div>\n",
       "<table border=\"1\" class=\"dataframe\">\n",
       "  <thead>\n",
       "    <tr style=\"text-align: right;\">\n",
       "      <th></th>\n",
       "      <th>Year</th>\n",
       "      <th>DDE</th>\n",
       "      <th>DDMU</th>\n",
       "      <th>DDNU</th>\n",
       "      <th>PCB118</th>\n",
       "      <th>PCB153</th>\n",
       "      <th>PCB138</th>\n",
       "      <th>PCB28</th>\n",
       "      <th>PCB70</th>\n",
       "    </tr>\n",
       "  </thead>\n",
       "  <tbody>\n",
       "    <tr>\n",
       "      <th>0</th>\n",
       "      <td>1992.52</td>\n",
       "      <td>3.07</td>\n",
       "      <td>0.67</td>\n",
       "      <td>0.026</td>\n",
       "      <td>0.0182</td>\n",
       "      <td>0.0119</td>\n",
       "      <td>0.0152</td>\n",
       "      <td>0.0084</td>\n",
       "      <td>0.0216</td>\n",
       "    </tr>\n",
       "    <tr>\n",
       "      <th>1</th>\n",
       "      <td>2003.58</td>\n",
       "      <td>2.75</td>\n",
       "      <td>0.87</td>\n",
       "      <td>0.072</td>\n",
       "      <td>0.0177</td>\n",
       "      <td>0.0122</td>\n",
       "      <td>0.0158</td>\n",
       "      <td>0.0106</td>\n",
       "      <td>0.0230</td>\n",
       "    </tr>\n",
       "    <tr>\n",
       "      <th>2</th>\n",
       "      <td>2009.23</td>\n",
       "      <td>2.37</td>\n",
       "      <td>0.75</td>\n",
       "      <td>0.095</td>\n",
       "      <td>0.0172</td>\n",
       "      <td>0.0095</td>\n",
       "      <td>0.0134</td>\n",
       "      <td>0.0112</td>\n",
       "      <td>0.0271</td>\n",
       "    </tr>\n",
       "    <tr>\n",
       "      <th>3</th>\n",
       "      <td>2010.31</td>\n",
       "      <td>1.16</td>\n",
       "      <td>0.43</td>\n",
       "      <td>0.046</td>\n",
       "      <td>0.0079</td>\n",
       "      <td>0.0054</td>\n",
       "      <td>0.0065</td>\n",
       "      <td>0.0032</td>\n",
       "      <td>0.0104</td>\n",
       "    </tr>\n",
       "  </tbody>\n",
       "</table>\n",
       "</div>"
      ],
      "text/plain": [
       "      Year   DDE  DDMU   DDNU  PCB118  PCB153  PCB138   PCB28   PCB70\n",
       "0  1992.52  3.07  0.67  0.026  0.0182  0.0119  0.0152  0.0084  0.0216\n",
       "1  2003.58  2.75  0.87  0.072  0.0177  0.0122  0.0158  0.0106  0.0230\n",
       "2  2009.23  2.37  0.75  0.095  0.0172  0.0095  0.0134  0.0112  0.0271\n",
       "3  2010.31  1.16  0.43  0.046  0.0079  0.0054  0.0065  0.0032  0.0104"
      ]
     },
     "execution_count": 3,
     "metadata": {},
     "output_type": "execute_result"
    }
   ],
   "source": [
    "# Load data from the selected site.\n",
    "# This data comes from the spreadsheet \"Inventories for C. Sherwood 12-16-2016.xlsx\" which was modified\n",
    "# and resent to CRS on 4/7/2016. The modifications added inventories of the congeners PCB28 and PBC70.\n",
    "cols=[\"Year\",\"DDE\",\"DDMU\",\"DDNU\",\"PCB118\",\"PCB153\",\"PCB138\",\"PCB28\",\"PCB70\"]\n",
    "A=np.array([\\\n",
    "    [1981.27,1.34,0.07,0.004,0.0081,0.0062,0.0076,0.0025,0.0077],\\\n",
    "    [1992.51,0.71,0.25,0.012,0.0066,0.0049,0.0064,0.0017,0.0057],\\\n",
    "    [2003.58,0.39,0.32,0.036,0.0050,0.0037,0.0050,0.0012,0.0038],\\\n",
    "    [2009.23,0.38,0.52,0.069,0.0076,0.0076,0.0085,0.0030,0.0057],\\\n",
    "    [2010.31,0.41,0.52,0.085,0.0075,0.0072,0.0079,0.0033,0.0061]])\n",
    "C3 = pd.DataFrame(A,columns=cols)\n",
    "\n",
    "B=np.array([\\\n",
    "    [1992.52,3.07,0.67,0.026,0.0182,0.0119,0.0152,0.0084,0.0216],\\\n",
    "    [2003.58,2.75,0.87,0.072,0.0177,0.0122,0.0158,0.0106,0.0230],\\\n",
    "    [2009.23,2.37,0.75,0.095,0.0172,0.0095,0.0134,0.0112,0.0271],\\\n",
    "    [2010.31,1.16,0.43,0.046,0.0079,0.0054,0.0065,0.0032,0.0104]])\n",
    "C6 = pd.DataFrame(B,columns=cols)\n",
    "\n",
    "C3\n",
    "C6"
   ]
  },
  {
   "cell_type": "code",
   "execution_count": 4,
   "metadata": {
    "collapsed": false
   },
   "outputs": [],
   "source": [
    "# guess at std. error in measurements per conv. with R.E.\n",
    "stde_DDE  = 0.05          #RE suggests 0.05\n",
    "stde_DDMU = 0.1          #RE suggested 0.1\n",
    "stde_DDNU = 0.1          #RE suggested 0.1\n",
    "stde_PCB  = 0.2          # std. error of measurements is around 0.2\n"
   ]
  },
  {
   "cell_type": "code",
   "execution_count": 5,
   "metadata": {
    "collapsed": true
   },
   "outputs": [],
   "source": [
    "# Objective function to minimize, fit through origin, estimate decay rate\n",
    "def residual(params, t, data, eps_data):\n",
    "    C0 = data[0]\n",
    "    k = params['decay_rate']\n",
    "    model = C0*np.exp(-k*(t-t[0]))\n",
    "    return (data-model)**2/eps_data**2\n",
    "\n",
    "# Objective function to minimize, estimate origin and decay rate\n",
    "def residual2(params, t, data, eps_data):\n",
    "    C0 = params['init_conc']\n",
    "    k = params['decay_rate']\n",
    "    model = C0*np.exp(-k*(t-t[0]))\n",
    "    return (data-model)**2/eps_data**2\n",
    "\n",
    "# this routine requires weights (e.g., array with std. dev. of y values)\n",
    "# Weights of one produce unweighted least-squares\n",
    "def lfit_Press(x,y,sig,iverbose=1):   \n",
    "    n = float(x.size)\n",
    "    sx = np.sum(x/sig**2)\n",
    "    sy = np.sum(y/sig**2)\n",
    "    ss = sum(1./sig**2)\n",
    "    sxoss = sx/ss\n",
    "    syoss = sy/ss\n",
    "    t = (1./sig)*(x-sx/ss)\n",
    "    st2 = np.sum(t**2)\n",
    "    b = np.sum( (t*y)/sig )/st2\n",
    "    a = (sy-sx*b)/ss\n",
    "    siga = np.sqrt((1.+sx**2/(ss*st2))/ss)\n",
    "    sigb = np.sqrt(1./st2)\n",
    "    chi2 = sum( ((y-a-b*x)/sig)**2 ) #PTVF eqn. 15.2.2\n",
    "    sigdat= np.sqrt(chi2/(n-2))\n",
    "    siga=siga*sigdat\n",
    "    sigb=sigb*sigdat\n",
    "    yhat = a+b*x\n",
    "    r2 = np.sum((yhat-syoss)**2)/np.sum((y-syoss)**2)\n",
    "    if(iverbose):\n",
    "        print('Slope: {0:.3f} +- {1:.4f}\\nIntercept: {2:.3f} +- {3:.4f}\\nr2 = {4:.4f}; chi-square = {5:.3f}'\\\n",
    "              .format(b,sigb,a,siga,r2,chi2))\n",
    "    return b,sigb,a,siga,r2,chi2\n"
   ]
  },
  {
   "cell_type": "code",
   "execution_count": 6,
   "metadata": {
    "collapsed": false
   },
   "outputs": [],
   "source": [
    "# set up table1\n",
    "t1cols = ['Adj','3D rate','3C +/-','3C r2','3C chi2','6C rate','6C +/-','6C r2','6C chi2','Year 0']\n",
    "t1rows = [\"none\",\"PCB118\",\"PCB153\",\"PCB138\",\"PCB28\",\"PCB70\",\"All\"]\n",
    "table1 = pd.DataFrame(index=t1rows, columns=t1cols)"
   ]
  },
  {
   "cell_type": "code",
   "execution_count": 7,
   "metadata": {
    "collapsed": false,
    "scrolled": false
   },
   "outputs": [
    {
     "name": "stdout",
     "output_type": "stream",
     "text": [
      "RPE\n"
     ]
    },
    {
     "data": {
      "text/html": [
       "<div>\n",
       "<table border=\"1\" class=\"dataframe\">\n",
       "  <thead>\n",
       "    <tr style=\"text-align: right;\">\n",
       "      <th></th>\n",
       "      <th>Adj</th>\n",
       "      <th>3D rate</th>\n",
       "      <th>3C +/-</th>\n",
       "      <th>3C r2</th>\n",
       "      <th>3C chi2</th>\n",
       "      <th>6C rate</th>\n",
       "      <th>6C +/-</th>\n",
       "      <th>6C r2</th>\n",
       "      <th>6C chi2</th>\n",
       "      <th>Year 0</th>\n",
       "    </tr>\n",
       "  </thead>\n",
       "  <tbody>\n",
       "    <tr>\n",
       "      <th>none</th>\n",
       "      <td>none</td>\n",
       "      <td>-0.0429643</td>\n",
       "      <td>0.0062251</td>\n",
       "      <td>0.940752</td>\n",
       "      <td>0.0708341</td>\n",
       "      <td>-0.0380168</td>\n",
       "      <td>0.0269042</td>\n",
       "      <td>0.499586</td>\n",
       "      <td>0.288236</td>\n",
       "      <td>1690.44</td>\n",
       "    </tr>\n",
       "    <tr>\n",
       "      <th>PCB118</th>\n",
       "      <td>PCB118</td>\n",
       "      <td>-0.0395373</td>\n",
       "      <td>0.00372409</td>\n",
       "      <td>0.974074</td>\n",
       "      <td>0.0253507</td>\n",
       "      <td>-0.00972683</td>\n",
       "      <td>0.00287965</td>\n",
       "      <td>0.850851</td>\n",
       "      <td>0.00330209</td>\n",
       "      <td>1977.41</td>\n",
       "    </tr>\n",
       "    <tr>\n",
       "      <th>PCB153</th>\n",
       "      <td>PCB153</td>\n",
       "      <td>-0.0480329</td>\n",
       "      <td>0.00827968</td>\n",
       "      <td>0.918156</td>\n",
       "      <td>0.125307</td>\n",
       "      <td>-0.00655867</td>\n",
       "      <td>0.00580075</td>\n",
       "      <td>0.389944</td>\n",
       "      <td>0.0133991</td>\n",
       "      <td>1977.63</td>\n",
       "    </tr>\n",
       "    <tr>\n",
       "      <th>PCB138</th>\n",
       "      <td>PCB138</td>\n",
       "      <td>-0.0445194</td>\n",
       "      <td>0.00518334</td>\n",
       "      <td>0.960922</td>\n",
       "      <td>0.0491099</td>\n",
       "      <td>-0.00727865</td>\n",
       "      <td>0.00294873</td>\n",
       "      <td>0.752874</td>\n",
       "      <td>0.0034624</td>\n",
       "      <td>1976.76</td>\n",
       "    </tr>\n",
       "    <tr>\n",
       "      <th>PCB28</th>\n",
       "      <td>PCB28</td>\n",
       "      <td>-0.0501811</td>\n",
       "      <td>0.0133481</td>\n",
       "      <td>0.824901</td>\n",
       "      <td>0.325681</td>\n",
       "      <td>-0.0142964</td>\n",
       "      <td>0.0209118</td>\n",
       "      <td>0.189423</td>\n",
       "      <td>0.174137</td>\n",
       "      <td>1994.13</td>\n",
       "    </tr>\n",
       "    <tr>\n",
       "      <th>PCB70</th>\n",
       "      <td>PCB70</td>\n",
       "      <td>-0.0324467</td>\n",
       "      <td>0.00447804</td>\n",
       "      <td>0.945947</td>\n",
       "      <td>0.0366543</td>\n",
       "      <td>-0.0204801</td>\n",
       "      <td>0.00977634</td>\n",
       "      <td>0.686936</td>\n",
       "      <td>0.0380593</td>\n",
       "      <td>1981.02</td>\n",
       "    </tr>\n",
       "    <tr>\n",
       "      <th>All</th>\n",
       "      <td>NaN</td>\n",
       "      <td>NaN</td>\n",
       "      <td>NaN</td>\n",
       "      <td>NaN</td>\n",
       "      <td>NaN</td>\n",
       "      <td>NaN</td>\n",
       "      <td>NaN</td>\n",
       "      <td>NaN</td>\n",
       "      <td>NaN</td>\n",
       "      <td>NaN</td>\n",
       "    </tr>\n",
       "  </tbody>\n",
       "</table>\n",
       "</div>"
      ],
      "text/plain": [
       "           Adj    3D rate      3C +/-     3C r2    3C chi2     6C rate  \\\n",
       "none      none -0.0429643   0.0062251  0.940752  0.0708341  -0.0380168   \n",
       "PCB118  PCB118 -0.0395373  0.00372409  0.974074  0.0253507 -0.00972683   \n",
       "PCB153  PCB153 -0.0480329  0.00827968  0.918156   0.125307 -0.00655867   \n",
       "PCB138  PCB138 -0.0445194  0.00518334  0.960922  0.0491099 -0.00727865   \n",
       "PCB28    PCB28 -0.0501811   0.0133481  0.824901   0.325681  -0.0142964   \n",
       "PCB70    PCB70 -0.0324467  0.00447804  0.945947  0.0366543  -0.0204801   \n",
       "All        NaN        NaN         NaN       NaN        NaN         NaN   \n",
       "\n",
       "            6C +/-     6C r2     6C chi2   Year 0  \n",
       "none     0.0269042  0.499586    0.288236  1690.44  \n",
       "PCB118  0.00287965  0.850851  0.00330209  1977.41  \n",
       "PCB153  0.00580075  0.389944   0.0133991  1977.63  \n",
       "PCB138  0.00294873  0.752874   0.0034624  1976.76  \n",
       "PCB28    0.0209118  0.189423    0.174137  1994.13  \n",
       "PCB70   0.00977634  0.686936   0.0380593  1981.02  \n",
       "All            NaN       NaN         NaN      NaN  "
      ]
     },
     "execution_count": 7,
     "metadata": {},
     "output_type": "execute_result"
    },
    {
     "name": "stdout",
     "output_type": "stream",
     "text": [
      "CRS\n"
     ]
    },
    {
     "data": {
      "text/html": [
       "<div>\n",
       "<table border=\"1\" class=\"dataframe\">\n",
       "  <thead>\n",
       "    <tr style=\"text-align: right;\">\n",
       "      <th></th>\n",
       "      <th>Adj</th>\n",
       "      <th>3D rate</th>\n",
       "      <th>3C +/-</th>\n",
       "      <th>3C r2</th>\n",
       "      <th>3C chi2</th>\n",
       "      <th>6C rate</th>\n",
       "      <th>6C +/-</th>\n",
       "      <th>6C r2</th>\n",
       "      <th>6C chi2</th>\n",
       "      <th>Year 0</th>\n",
       "    </tr>\n",
       "  </thead>\n",
       "  <tbody>\n",
       "    <tr>\n",
       "      <th>none</th>\n",
       "      <td>none</td>\n",
       "      <td>-0.0429643</td>\n",
       "      <td>0.0062251</td>\n",
       "      <td>0.940752</td>\n",
       "      <td>0.0708341</td>\n",
       "      <td>-0.0380168</td>\n",
       "      <td>0.0269042</td>\n",
       "      <td>0.499586</td>\n",
       "      <td>0.288236</td>\n",
       "      <td>1690.44</td>\n",
       "    </tr>\n",
       "    <tr>\n",
       "      <th>PCB118</th>\n",
       "      <td>PCB118</td>\n",
       "      <td>-0.0395373</td>\n",
       "      <td>0.00372409</td>\n",
       "      <td>0.974074</td>\n",
       "      <td>0.0253507</td>\n",
       "      <td>-0.00972683</td>\n",
       "      <td>0.00287965</td>\n",
       "      <td>0.850851</td>\n",
       "      <td>0.00330209</td>\n",
       "      <td>1951.1</td>\n",
       "    </tr>\n",
       "    <tr>\n",
       "      <th>PCB153</th>\n",
       "      <td>PCB153</td>\n",
       "      <td>-0.0480329</td>\n",
       "      <td>0.00827968</td>\n",
       "      <td>0.918156</td>\n",
       "      <td>0.125307</td>\n",
       "      <td>-0.00655867</td>\n",
       "      <td>0.00580075</td>\n",
       "      <td>0.389944</td>\n",
       "      <td>0.0133991</td>\n",
       "      <td>1965.6</td>\n",
       "    </tr>\n",
       "    <tr>\n",
       "      <th>PCB138</th>\n",
       "      <td>PCB138</td>\n",
       "      <td>-0.0445194</td>\n",
       "      <td>0.00518334</td>\n",
       "      <td>0.960922</td>\n",
       "      <td>0.0491099</td>\n",
       "      <td>-0.00727865</td>\n",
       "      <td>0.00294873</td>\n",
       "      <td>0.752874</td>\n",
       "      <td>0.0034624</td>\n",
       "      <td>1961.02</td>\n",
       "    </tr>\n",
       "    <tr>\n",
       "      <th>PCB28</th>\n",
       "      <td>PCB28</td>\n",
       "      <td>-0.0501811</td>\n",
       "      <td>0.0133481</td>\n",
       "      <td>0.824901</td>\n",
       "      <td>0.325681</td>\n",
       "      <td>-0.0142964</td>\n",
       "      <td>0.0209118</td>\n",
       "      <td>0.189423</td>\n",
       "      <td>0.174137</td>\n",
       "      <td>1958.68</td>\n",
       "    </tr>\n",
       "    <tr>\n",
       "      <th>PCB70</th>\n",
       "      <td>PCB70</td>\n",
       "      <td>-0.0324467</td>\n",
       "      <td>0.00447804</td>\n",
       "      <td>0.945947</td>\n",
       "      <td>0.0366543</td>\n",
       "      <td>-0.0204801</td>\n",
       "      <td>0.00977634</td>\n",
       "      <td>0.686936</td>\n",
       "      <td>0.0380593</td>\n",
       "      <td>1875.41</td>\n",
       "    </tr>\n",
       "    <tr>\n",
       "      <th>All</th>\n",
       "      <td>NaN</td>\n",
       "      <td>NaN</td>\n",
       "      <td>NaN</td>\n",
       "      <td>NaN</td>\n",
       "      <td>NaN</td>\n",
       "      <td>NaN</td>\n",
       "      <td>NaN</td>\n",
       "      <td>NaN</td>\n",
       "      <td>NaN</td>\n",
       "      <td>NaN</td>\n",
       "    </tr>\n",
       "  </tbody>\n",
       "</table>\n",
       "</div>"
      ],
      "text/plain": [
       "           Adj    3D rate      3C +/-     3C r2    3C chi2     6C rate  \\\n",
       "none      none -0.0429643   0.0062251  0.940752  0.0708341  -0.0380168   \n",
       "PCB118  PCB118 -0.0395373  0.00372409  0.974074  0.0253507 -0.00972683   \n",
       "PCB153  PCB153 -0.0480329  0.00827968  0.918156   0.125307 -0.00655867   \n",
       "PCB138  PCB138 -0.0445194  0.00518334  0.960922  0.0491099 -0.00727865   \n",
       "PCB28    PCB28 -0.0501811   0.0133481  0.824901   0.325681  -0.0142964   \n",
       "PCB70    PCB70 -0.0324467  0.00447804  0.945947  0.0366543  -0.0204801   \n",
       "All        NaN        NaN         NaN       NaN        NaN         NaN   \n",
       "\n",
       "            6C +/-     6C r2     6C chi2   Year 0  \n",
       "none     0.0269042  0.499586    0.288236  1690.44  \n",
       "PCB118  0.00287965  0.850851  0.00330209   1951.1  \n",
       "PCB153  0.00580075  0.389944   0.0133991   1965.6  \n",
       "PCB138  0.00294873  0.752874   0.0034624  1961.02  \n",
       "PCB28    0.0209118  0.189423    0.174137  1958.68  \n",
       "PCB70   0.00977634  0.686936   0.0380593  1875.41  \n",
       "All            NaN       NaN         NaN      NaN  "
      ]
     },
     "execution_count": 7,
     "metadata": {},
     "output_type": "execute_result"
    }
   ],
   "source": [
    "method = ['RPE','CRS']\n",
    "for j in method:\n",
    "    \n",
    "    C3t = C3['Year']\n",
    "    C3std = np.ones_like(C3t)\n",
    "    C6t = C6['Year']\n",
    "    C6std = np.ones_like(C6t)\n",
    "\n",
    "    data = np.log(C3['DDE'])\n",
    "    #print('\\nSite 3C, no adjustment:')\n",
    "    b,sb,a,sa,r2,chisq = lfit_Press(C3t,data,C3std,iverbose=0)      \n",
    "\n",
    "    #print('\\nSite 6C, no adjustment:')\n",
    "    data = np.log(C6['DDE'])\n",
    "    b2,sb2,a2,sa2,r22,chisq2 = lfit_Press(C6t,data,C6std,iverbose=0)\n",
    "    \n",
    "    # calculate the intersection of the two lines\n",
    "    xs = (a - a2)/(b2-b)\n",
    "    table1.ix['none']=['none',b,sb,r2,chisq,b2,sb2,r22,chisq2,xs]\n",
    "\n",
    "    #print(\"\\nAdjusting with adjusted with \"+i+\":\")\n",
    "    for i in t1rows[1:6]:\n",
    "        facC3 = 1.\n",
    "        facC6 = 1.\n",
    "        if j == 'CRS':\n",
    "            facC3 = mean(C3[i])\n",
    "            facC6 = mean(C6[i])\n",
    "            \n",
    "        data = np.log(facC3*C3['DDE']/C3[i])\n",
    "        #print('Site 3C adjusted with '+i+':')\n",
    "        b,sb,a,sa,r2,chisq = lfit_Press(C3t,data,C3std,iverbose=0)      \n",
    "\n",
    "        data = np.log(facC6*C6['DDE']/C6[i])\n",
    "        #print('Site 6C adjusted with '+i+':')\n",
    "        b2,sb2,a2,sa2,r22,chisq2 = lfit_Press(C6t,data,C6std,iverbose=0)\n",
    "\n",
    "        # calculate the intersection of the two lines\n",
    "        xs = (a - a2)/(b2-b)\n",
    "        table1.ix[i]=[i,b,sb,r2,chisq,b2,sb2,r22,chisq2,xs]\n",
    "    \n",
    "    print(j)\n",
    "    table1"
   ]
  },
  {
   "cell_type": "code",
   "execution_count": 8,
   "metadata": {
    "collapsed": false
   },
   "outputs": [
    {
     "data": {
      "text/plain": [
       "'RPE'"
      ]
     },
     "execution_count": 8,
     "metadata": {},
     "output_type": "execute_result"
    },
    {
     "name": "stdout",
     "output_type": "stream",
     "text": [
      "Site 3C adjusted with PCB118:\n",
      "Slope: -0.040 +- 0.0037\n",
      "Intercept: 83.461 +- 7.4460\n",
      "r2 = 0.9741; chi-square = 0.025\n",
      "Site 6C adjusted with PCB118:\n",
      "Slope: -0.010 +- 0.0029\n",
      "Intercept: 24.514 +- 5.7706\n",
      "r2 = 0.8509; chi-square = 0.003\n"
     ]
    },
    {
     "data": {
      "text/plain": [
       "[<matplotlib.lines.Line2D at 0xc66a1d0>]"
      ]
     },
     "execution_count": 8,
     "metadata": {},
     "output_type": "execute_result"
    },
    {
     "data": {
      "text/plain": [
       "[<matplotlib.lines.Line2D at 0x1f66240>]"
      ]
     },
     "execution_count": 8,
     "metadata": {},
     "output_type": "execute_result"
    },
    {
     "data": {
      "text/plain": [
       "[<matplotlib.lines.Line2D at 0xc707b70>]"
      ]
     },
     "execution_count": 8,
     "metadata": {},
     "output_type": "execute_result"
    },
    {
     "data": {
      "text/plain": [
       "[<matplotlib.lines.Line2D at 0xc7079b0>]"
      ]
     },
     "execution_count": 8,
     "metadata": {},
     "output_type": "execute_result"
    },
    {
     "data": {
      "text/plain": [
       "<matplotlib.text.Text at 0xc61d588>"
      ]
     },
     "execution_count": 8,
     "metadata": {},
     "output_type": "execute_result"
    },
    {
     "data": {
      "text/plain": [
       "<matplotlib.text.Text at 0xc654c50>"
      ]
     },
     "execution_count": 8,
     "metadata": {},
     "output_type": "execute_result"
    },
    {
     "data": {
      "text/plain": [
       "<matplotlib.legend.Legend at 0xc707be0>"
      ]
     },
     "execution_count": 8,
     "metadata": {},
     "output_type": "execute_result"
    },
    {
     "data": {
      "text/plain": [
       "'CRS'"
      ]
     },
     "execution_count": 8,
     "metadata": {},
     "output_type": "execute_result"
    },
    {
     "name": "stdout",
     "output_type": "stream",
     "text": [
      "Site 3C adjusted with PCB118:\n",
      "Slope: -0.040 +- 0.0037\n",
      "Intercept: 78.494 +- 7.4460\n",
      "r2 = 0.9741; chi-square = 0.025\n",
      "Site 6C adjusted with PCB118:\n",
      "Slope: -0.010 +- 0.0029\n",
      "Intercept: 20.331 +- 5.7706\n",
      "r2 = 0.8509; chi-square = 0.003\n"
     ]
    },
    {
     "data": {
      "text/plain": [
       "[<matplotlib.lines.Line2D at 0xc79ac50>]"
      ]
     },
     "execution_count": 8,
     "metadata": {},
     "output_type": "execute_result"
    },
    {
     "data": {
      "text/plain": [
       "[<matplotlib.lines.Line2D at 0xc79a710>]"
      ]
     },
     "execution_count": 8,
     "metadata": {},
     "output_type": "execute_result"
    },
    {
     "data": {
      "text/plain": [
       "[<matplotlib.lines.Line2D at 0xc8507f0>]"
      ]
     },
     "execution_count": 8,
     "metadata": {},
     "output_type": "execute_result"
    },
    {
     "data": {
      "text/plain": [
       "[<matplotlib.lines.Line2D at 0xc7928d0>]"
      ]
     },
     "execution_count": 8,
     "metadata": {},
     "output_type": "execute_result"
    },
    {
     "data": {
      "text/plain": [
       "<matplotlib.text.Text at 0xc737e10>"
      ]
     },
     "execution_count": 8,
     "metadata": {},
     "output_type": "execute_result"
    },
    {
     "data": {
      "text/plain": [
       "<matplotlib.text.Text at 0xc79a908>"
      ]
     },
     "execution_count": 8,
     "metadata": {},
     "output_type": "execute_result"
    },
    {
     "data": {
      "text/plain": [
       "<matplotlib.legend.Legend at 0xc850898>"
      ]
     },
     "execution_count": 8,
     "metadata": {},
     "output_type": "execute_result"
    },
    {
     "data": {
      "image/png": "[encoded data removed]",
      "text/plain": [
       "<matplotlib.figure.Figure at 0xc5d62e8>"
      ]
     },
     "metadata": {},
     "output_type": "display_data"
    },
    {
     "data": {
      "image/png": "[encoded data removed]",
      "text/plain": [
       "<matplotlib.figure.Figure at 0xc5ab358>"
      ]
     },
     "metadata": {},
     "output_type": "display_data"
    }
   ],
   "source": [
    "# suppress chatter from Matplotlib\n",
    "#InteractiveShell.ast_node_interactivity = \"none\"\n",
    "\n",
    "#ts1 = r\"$k = {0:.2f}, r^2 = {0:5.3f}$\".format(k1f_adj,r2_adj)\n",
    "#ts2 = r\"$k = {0:.2f}, r^2 = {0:5.3f}$\".format(k1f,r2)\n",
    "i='PCB118'\n",
    "facC3 = 1.\n",
    "facC6 = 1.\n",
    "for j in method:\n",
    "    j\n",
    "    if j == 'CRS':\n",
    "        facC3 = mean(C3[i])\n",
    "        facC6 = mean(C6[i])\n",
    "\n",
    "    C3data = np.log(facC3*C3['DDE']/C3[i])\n",
    "    C6data = np.log(facC6*C6['DDE']/C6[i])\n",
    "\n",
    "    print('Site 3C adjusted with '+i+':')\n",
    "    b,sb,a,sa,r2,chisq = lfit_Press(C3t,C3data,C3std)\n",
    "    hat = np.array((1960,2010))\n",
    "    C3hat = exp( a+b*hat )\n",
    "\n",
    "    data = np.log(facC6*C6['DDE']/C6[i])\n",
    "    print('Site 6C adjusted with '+i+':')\n",
    "    b2,sb2,a2,sa2,r22,chisq2 = lfit_Press(C6t,C6data,C6std)\n",
    "    C6hat = exp( a2+b2*hat )\n",
    "\n",
    "    # calculate the intersection of the two lines\n",
    "    xs = (a - a2)/(b2-b)\n",
    "    table1.ix[i]=[i,b,sb,r2,chisq,b2,sb2,r22,chisq2,xs]\n",
    "\n",
    "    fig = plt.figure()\n",
    "    plt.semilogy(hat,C3hat,'-',color='gray',linewidth=2) #,label=ts1)\n",
    "    plt.semilogy(hat,C6hat,'--',color='black',linewidth=2) #,label=ts2)\n",
    "    plt.semilogy(C3['Year'],exp(C3data),'o',color='gray',markersize=8,linestyle='None',label='$3C$')\n",
    "    plt.semilogy(C6['Year'],exp(C6data),'o',color='black',markersize=8,linestyle='None',label='$6C$')\n",
    "    plt.xlabel('Time (years)')\n",
    "    plt.ylabel('Inventory ($\\mu mol DDE \\: cm^{-2} / \\mu mol PCB \\: cm^{-2} $)')\n",
    "    plt.legend(loc='lower left')\n",
    "    #plt.semilogy(t,DDE*adj_pcb118,'o',color='gray',markersize=8,linestyle='None',label='$DDE_{adj \\: 118}$')"
   ]
  }
 ],
 "metadata": {
  "anaconda-cloud": {},
  "kernelspec": {
   "display_name": "Python 2",
   "language": "python",
   "name": "python2"
  },
  "language_info": {
   "codemirror_mode": {
    "name": "ipython",
    "version": 2
   },
   "file_extension": ".py",
   "mimetype": "text/x-python",
   "name": "python",
   "nbconvert_exporter": "python",
   "pygments_lexer": "ipython2",
   "version": "2.7.12"
  }
 },
 "nbformat": 4,
 "nbformat_minor": 1
}
